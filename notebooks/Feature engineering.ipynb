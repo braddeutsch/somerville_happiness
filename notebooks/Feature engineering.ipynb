{
 "cells": [
  {
   "cell_type": "code",
   "execution_count": null,
   "id": "06f5dd25",
   "metadata": {},
   "outputs": [],
   "source": []
  },
  {
   "cell_type": "code",
   "execution_count": null,
   "id": "0d392cac",
   "metadata": {},
   "outputs": [],
   "source": [
    "data_2019['d10_how_long_lived_here_bins'] = pd.qcut(data_2019['d10_how_long_lived_here'], q=4, labels=np.arange(4))\n",
    "data_2019.drop('d10_how_long_lived_here', axis=1, inplace=True)\n",
    "data_2019['d10_how_long_lived_here_bins'] = pd.to_numeric(data_2019['d10_how_long_lived_here_bins'])\n",
    "\n",
    "\n",
    "# one-hot encoding for binary / trinary cols\n",
    "one_hot_cols = ['d01_gender', \n",
    "                'd06_housing_status', \n",
    "                'q05_city_direction']\n",
    "data_2019 = pd.get_dummies(data_2019, columns=one_hot_cols)\n",
    "\n",
    "# drop unused columns\n",
    "data_2019.drop('year', axis=1, inplace=True)\n",
    "data_2019.drop('move_why', axis=1, inplace=True)"
   ]
  }
 ],
 "metadata": {
  "kernelspec": {
   "display_name": "Python 3 (ipykernel)",
   "language": "python",
   "name": "python3"
  },
  "language_info": {
   "codemirror_mode": {
    "name": "ipython",
    "version": 3
   },
   "file_extension": ".py",
   "mimetype": "text/x-python",
   "name": "python",
   "nbconvert_exporter": "python",
   "pygments_lexer": "ipython3",
   "version": "3.10.5"
  }
 },
 "nbformat": 4,
 "nbformat_minor": 5
}
