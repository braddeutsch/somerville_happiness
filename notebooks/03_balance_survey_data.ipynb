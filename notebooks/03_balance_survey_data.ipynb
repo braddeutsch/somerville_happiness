{
 "cells": [
  {
   "cell_type": "markdown",
   "id": "2be538ef",
   "metadata": {},
   "source": [
    "# Balance survey data\n",
    "Assign weights to each survey respondent such that the population is balanced on gender, age, hhi, race, and ethnicity with respect to the census.\n",
    "\n",
    "1. Load data\n",
    "2. Impute missing demo values based on baseline frequencies\n",
    "3. Create population hooks in the survey data\n",
    "4. Create an axis with all possible demographic categories\n",
    "5. Join survey data and population targets to that axis, fill with 0's\n",
    "6. Find weights via matrix inversion\n",
    "7. Export weights, demo hooks"
   ]
  },
  {
   "cell_type": "code",
   "execution_count": 4,
   "id": "3e407eaf",
   "metadata": {},
   "outputs": [],
   "source": [
    "import numpy as np\n",
    "import pandas as pd\n"
   ]
  },
  {
   "cell_type": "code",
   "execution_count": 5,
   "id": "a2340986",
   "metadata": {
    "scrolled": true
   },
   "outputs": [
    {
     "ename": "KeyError",
     "evalue": "\"['race_hooks', 'd04_ethnicity', 'd08_hhi_buckets'] not in index\"",
     "output_type": "error",
     "traceback": [
      "\u001b[0;31m---------------------------------------------------------------------------\u001b[0m",
      "\u001b[0;31mKeyError\u001b[0m                                  Traceback (most recent call last)",
      "Input \u001b[0;32mIn [5]\u001b[0m, in \u001b[0;36m<cell line: 13>\u001b[0;34m()\u001b[0m\n\u001b[1;32m      5\u001b[0m \u001b[38;5;66;03m# trim columns and rename\u001b[39;00m\n\u001b[1;32m      6\u001b[0m demo_cols \u001b[38;5;241m=\u001b[39m [\u001b[38;5;124m'\u001b[39m\u001b[38;5;124md01_gender\u001b[39m\u001b[38;5;124m'\u001b[39m,\n\u001b[1;32m      7\u001b[0m              \u001b[38;5;124m'\u001b[39m\u001b[38;5;124md02_age\u001b[39m\u001b[38;5;124m'\u001b[39m,\n\u001b[1;32m      8\u001b[0m              \u001b[38;5;124m'\u001b[39m\u001b[38;5;124mrace_hooks\u001b[39m\u001b[38;5;124m'\u001b[39m,\n\u001b[1;32m      9\u001b[0m              \u001b[38;5;124m'\u001b[39m\u001b[38;5;124md04_ethnicity\u001b[39m\u001b[38;5;124m'\u001b[39m,\n\u001b[1;32m     10\u001b[0m              \u001b[38;5;124m'\u001b[39m\u001b[38;5;124md08_hhi_buckets\u001b[39m\u001b[38;5;124m'\u001b[39m]\n\u001b[0;32m---> 13\u001b[0m demo_data \u001b[38;5;241m=\u001b[39m \u001b[43msurvey_data\u001b[49m\u001b[43m[\u001b[49m\u001b[43mdemo_cols\u001b[49m\u001b[43m]\u001b[49m\n\u001b[1;32m     14\u001b[0m demo_data\u001b[38;5;241m.\u001b[39mrename(columns\u001b[38;5;241m=\u001b[39m{\u001b[38;5;124m'\u001b[39m\u001b[38;5;124md01_gender\u001b[39m\u001b[38;5;124m'\u001b[39m: \u001b[38;5;124m'\u001b[39m\u001b[38;5;124mgender\u001b[39m\u001b[38;5;124m'\u001b[39m,\n\u001b[1;32m     15\u001b[0m                           \u001b[38;5;124m'\u001b[39m\u001b[38;5;124md02_age\u001b[39m\u001b[38;5;124m'\u001b[39m: \u001b[38;5;124m'\u001b[39m\u001b[38;5;124mage\u001b[39m\u001b[38;5;124m'\u001b[39m,\n\u001b[1;32m     16\u001b[0m                           \u001b[38;5;124m'\u001b[39m\u001b[38;5;124mrace_hooks\u001b[39m\u001b[38;5;124m'\u001b[39m: \u001b[38;5;124m'\u001b[39m\u001b[38;5;124mrace\u001b[39m\u001b[38;5;124m'\u001b[39m,\n\u001b[1;32m     17\u001b[0m                           \u001b[38;5;124m'\u001b[39m\u001b[38;5;124md04_ethnicity\u001b[39m\u001b[38;5;124m'\u001b[39m: \u001b[38;5;124m'\u001b[39m\u001b[38;5;124methnicity\u001b[39m\u001b[38;5;124m'\u001b[39m,\n\u001b[1;32m     18\u001b[0m                           \u001b[38;5;124m'\u001b[39m\u001b[38;5;124md08_hhi_buckets\u001b[39m\u001b[38;5;124m'\u001b[39m: \u001b[38;5;124m'\u001b[39m\u001b[38;5;124mhhi\u001b[39m\u001b[38;5;124m'\u001b[39m}, inplace\u001b[38;5;241m=\u001b[39m\u001b[38;5;28;01mTrue\u001b[39;00m)\n",
      "File \u001b[0;32m~/.cache/pypoetry/virtualenvs/ls-wIZs6mdd-py3.10/lib/python3.10/site-packages/pandas/core/frame.py:3511\u001b[0m, in \u001b[0;36mDataFrame.__getitem__\u001b[0;34m(self, key)\u001b[0m\n\u001b[1;32m   3509\u001b[0m     \u001b[38;5;28;01mif\u001b[39;00m is_iterator(key):\n\u001b[1;32m   3510\u001b[0m         key \u001b[38;5;241m=\u001b[39m \u001b[38;5;28mlist\u001b[39m(key)\n\u001b[0;32m-> 3511\u001b[0m     indexer \u001b[38;5;241m=\u001b[39m \u001b[38;5;28;43mself\u001b[39;49m\u001b[38;5;241;43m.\u001b[39;49m\u001b[43mcolumns\u001b[49m\u001b[38;5;241;43m.\u001b[39;49m\u001b[43m_get_indexer_strict\u001b[49m\u001b[43m(\u001b[49m\u001b[43mkey\u001b[49m\u001b[43m,\u001b[49m\u001b[43m \u001b[49m\u001b[38;5;124;43m\"\u001b[39;49m\u001b[38;5;124;43mcolumns\u001b[39;49m\u001b[38;5;124;43m\"\u001b[39;49m\u001b[43m)\u001b[49m[\u001b[38;5;241m1\u001b[39m]\n\u001b[1;32m   3513\u001b[0m \u001b[38;5;66;03m# take() does not accept boolean indexers\u001b[39;00m\n\u001b[1;32m   3514\u001b[0m \u001b[38;5;28;01mif\u001b[39;00m \u001b[38;5;28mgetattr\u001b[39m(indexer, \u001b[38;5;124m\"\u001b[39m\u001b[38;5;124mdtype\u001b[39m\u001b[38;5;124m\"\u001b[39m, \u001b[38;5;28;01mNone\u001b[39;00m) \u001b[38;5;241m==\u001b[39m \u001b[38;5;28mbool\u001b[39m:\n",
      "File \u001b[0;32m~/.cache/pypoetry/virtualenvs/ls-wIZs6mdd-py3.10/lib/python3.10/site-packages/pandas/core/indexes/base.py:5782\u001b[0m, in \u001b[0;36mIndex._get_indexer_strict\u001b[0;34m(self, key, axis_name)\u001b[0m\n\u001b[1;32m   5779\u001b[0m \u001b[38;5;28;01melse\u001b[39;00m:\n\u001b[1;32m   5780\u001b[0m     keyarr, indexer, new_indexer \u001b[38;5;241m=\u001b[39m \u001b[38;5;28mself\u001b[39m\u001b[38;5;241m.\u001b[39m_reindex_non_unique(keyarr)\n\u001b[0;32m-> 5782\u001b[0m \u001b[38;5;28;43mself\u001b[39;49m\u001b[38;5;241;43m.\u001b[39;49m\u001b[43m_raise_if_missing\u001b[49m\u001b[43m(\u001b[49m\u001b[43mkeyarr\u001b[49m\u001b[43m,\u001b[49m\u001b[43m \u001b[49m\u001b[43mindexer\u001b[49m\u001b[43m,\u001b[49m\u001b[43m \u001b[49m\u001b[43maxis_name\u001b[49m\u001b[43m)\u001b[49m\n\u001b[1;32m   5784\u001b[0m keyarr \u001b[38;5;241m=\u001b[39m \u001b[38;5;28mself\u001b[39m\u001b[38;5;241m.\u001b[39mtake(indexer)\n\u001b[1;32m   5785\u001b[0m \u001b[38;5;28;01mif\u001b[39;00m \u001b[38;5;28misinstance\u001b[39m(key, Index):\n\u001b[1;32m   5786\u001b[0m     \u001b[38;5;66;03m# GH 42790 - Preserve name from an Index\u001b[39;00m\n",
      "File \u001b[0;32m~/.cache/pypoetry/virtualenvs/ls-wIZs6mdd-py3.10/lib/python3.10/site-packages/pandas/core/indexes/base.py:5845\u001b[0m, in \u001b[0;36mIndex._raise_if_missing\u001b[0;34m(self, key, indexer, axis_name)\u001b[0m\n\u001b[1;32m   5842\u001b[0m     \u001b[38;5;28;01mraise\u001b[39;00m \u001b[38;5;167;01mKeyError\u001b[39;00m(\u001b[38;5;124mf\u001b[39m\u001b[38;5;124m\"\u001b[39m\u001b[38;5;124mNone of [\u001b[39m\u001b[38;5;132;01m{\u001b[39;00mkey\u001b[38;5;132;01m}\u001b[39;00m\u001b[38;5;124m] are in the [\u001b[39m\u001b[38;5;132;01m{\u001b[39;00maxis_name\u001b[38;5;132;01m}\u001b[39;00m\u001b[38;5;124m]\u001b[39m\u001b[38;5;124m\"\u001b[39m)\n\u001b[1;32m   5844\u001b[0m not_found \u001b[38;5;241m=\u001b[39m \u001b[38;5;28mlist\u001b[39m(ensure_index(key)[missing_mask\u001b[38;5;241m.\u001b[39mnonzero()[\u001b[38;5;241m0\u001b[39m]]\u001b[38;5;241m.\u001b[39munique())\n\u001b[0;32m-> 5845\u001b[0m \u001b[38;5;28;01mraise\u001b[39;00m \u001b[38;5;167;01mKeyError\u001b[39;00m(\u001b[38;5;124mf\u001b[39m\u001b[38;5;124m\"\u001b[39m\u001b[38;5;132;01m{\u001b[39;00mnot_found\u001b[38;5;132;01m}\u001b[39;00m\u001b[38;5;124m not in index\u001b[39m\u001b[38;5;124m\"\u001b[39m)\n",
      "\u001b[0;31mKeyError\u001b[0m: \"['race_hooks', 'd04_ethnicity', 'd08_hhi_buckets'] not in index\""
     ]
    }
   ],
   "source": [
    "# load data\n",
    "survey_data = pd.read_csv('../data/processed/01_filtered_renamed_survey_data.csv')\n",
    "population_targets = pd.read_csv('../data/processed/02_target_populations.csv')\n",
    "\n",
    "# trim columns and rename\n",
    "demo_cols = ['d01_gender',\n",
    "             'd02_age',\n",
    "             'race_hooks',\n",
    "             'd04_ethnicity',\n",
    "             'd08_hhi_buckets']\n",
    "\n",
    "\n",
    "demo_data = survey_data[demo_cols]\n",
    "demo_data.rename(columns={'d01_gender': 'gender',\n",
    "                          'd02_age': 'age',\n",
    "                          'race_hooks': 'race',\n",
    "                          'd04_ethnicity': 'ethnicity',\n",
    "                          'd08_hhi_buckets': 'hhi'}, inplace=True)"
   ]
  },
  {
   "cell_type": "code",
   "execution_count": null,
   "id": "6905f2d1",
   "metadata": {},
   "outputs": [],
   "source": []
  },
  {
   "cell_type": "code",
   "execution_count": 497,
   "id": "1a2986d5",
   "metadata": {
    "scrolled": true
   },
   "outputs": [
    {
     "name": "stderr",
     "output_type": "stream",
     "text": [
      "/tmp/ipykernel_2485/3861690361.py:2: SettingWithCopyWarning: \n",
      "A value is trying to be set on a copy of a slice from a DataFrame\n",
      "\n",
      "See the caveats in the documentation: https://pandas.pydata.org/pandas-docs/stable/user_guide/indexing.html#returning-a-view-versus-a-copy\n",
      "  demo_data.replace({\"No Answer\": np.nan}, inplace=True)\n"
     ]
    }
   ],
   "source": [
    "# set 'no answer\" to null so we can impute easily\n",
    "demo_data.replace({\"No Answer\": np.nan}, inplace=True)"
   ]
  },
  {
   "cell_type": "code",
   "execution_count": 499,
   "id": "9de2b67b",
   "metadata": {},
   "outputs": [],
   "source": [
    "def impute_by_sampled_frequency(df, col):\n",
    "    \"\"\"Impute nulls by sampling according to the frequencies present in the data.\n",
    "    Modifies the df in place.\"\"\"\n",
    "    \n",
    "    s = df[col].value_counts(normalize=True)\n",
    "    missing = df[col].isnull()\n",
    "    df.loc[missing, col] = np.random.choice(s.index, size=len(df[missing]),p=s.values)\n",
    "\n",
    "    return "
   ]
  },
  {
   "cell_type": "code",
   "execution_count": 500,
   "id": "f4f138ef",
   "metadata": {},
   "outputs": [],
   "source": [
    "# for any missing value, substitute according to the sample frequencies\n",
    "impute_by_sampled_frequency(demo_data, 'gender')\n",
    "impute_by_sampled_frequency(demo_data, 'hhi')\n",
    "impute_by_sampled_frequency(demo_data, 'race')\n",
    "impute_by_sampled_frequency(demo_data, 'ethnicity')\n",
    "impute_by_sampled_frequency(demo_data, 'age')"
   ]
  },
  {
   "cell_type": "code",
   "execution_count": 501,
   "id": "560d6aff",
   "metadata": {},
   "outputs": [
    {
     "name": "stderr",
     "output_type": "stream",
     "text": [
      "/tmp/ipykernel_2485/1110671701.py:2: SettingWithCopyWarning: \n",
      "A value is trying to be set on a copy of a slice from a DataFrame.\n",
      "Try using .loc[row_indexer,col_indexer] = value instead\n",
      "\n",
      "See the caveats in the documentation: https://pandas.pydata.org/pandas-docs/stable/user_guide/indexing.html#returning-a-view-versus-a-copy\n",
      "  demo_data['ethnicity'] = demo_data['ethnicity'].apply(lambda x: 'hispanic' if x==1.0 else 'not_hispanic')\n"
     ]
    }
   ],
   "source": [
    "# change ethnicity column from binary to string\n",
    "demo_data['ethnicity'] = demo_data['ethnicity'].apply(lambda x: 'hispanic' if x==1.0 else 'not_hispanic')"
   ]
  },
  {
   "cell_type": "code",
   "execution_count": 502,
   "id": "724729ca",
   "metadata": {},
   "outputs": [
    {
     "name": "stderr",
     "output_type": "stream",
     "text": [
      "/tmp/ipykernel_2485/3796770471.py:3: SettingWithCopyWarning: \n",
      "A value is trying to be set on a copy of a slice from a DataFrame.\n",
      "Try using .loc[row_indexer,col_indexer] = value instead\n",
      "\n",
      "See the caveats in the documentation: https://pandas.pydata.org/pandas-docs/stable/user_guide/indexing.html#returning-a-view-versus-a-copy\n",
      "  demo_data['race_ethnicity'] = demo_data.apply(lambda row: \"({0}, {1})\".format(row['race'], row['ethnicity']), axis=1)\n",
      "/tmp/ipykernel_2485/3796770471.py:4: SettingWithCopyWarning: \n",
      "A value is trying to be set on a copy of a slice from a DataFrame\n",
      "\n",
      "See the caveats in the documentation: https://pandas.pydata.org/pandas-docs/stable/user_guide/indexing.html#returning-a-view-versus-a-copy\n",
      "  demo_data.drop(['race', 'ethnicity'], axis=1, inplace=True)\n"
     ]
    }
   ],
   "source": [
    "# get race x ethnicity combinations.\n",
    "\n",
    "demo_data['race_ethnicity'] = demo_data.apply(lambda row: \"({0}, {1})\".format(row['race'], row['ethnicity']), axis=1)\n",
    "demo_data.drop(['race', 'ethnicity'], axis=1, inplace=True)"
   ]
  },
  {
   "cell_type": "code",
   "execution_count": 503,
   "id": "3104696f",
   "metadata": {},
   "outputs": [
    {
     "name": "stderr",
     "output_type": "stream",
     "text": [
      "/tmp/ipykernel_2485/3385731230.py:1: SettingWithCopyWarning: \n",
      "A value is trying to be set on a copy of a slice from a DataFrame.\n",
      "Try using .loc[row_indexer,col_indexer] = value instead\n",
      "\n",
      "See the caveats in the documentation: https://pandas.pydata.org/pandas-docs/stable/user_guide/indexing.html#returning-a-view-versus-a-copy\n",
      "  demo_data['hhi'] = demo_data['hhi'].astype(int).astype(str)\n"
     ]
    }
   ],
   "source": [
    "demo_data['hhi'] = demo_data['hhi'].astype(int).astype(str)"
   ]
  },
  {
   "cell_type": "code",
   "execution_count": 504,
   "id": "45e00445",
   "metadata": {},
   "outputs": [],
   "source": [
    "survey_demo_counts = pd.get_dummies(demo_data)"
   ]
  },
  {
   "cell_type": "markdown",
   "id": "06adabf4",
   "metadata": {},
   "source": [
    "## Population balancing"
   ]
  },
  {
   "cell_type": "code",
   "execution_count": 505,
   "id": "681a467b",
   "metadata": {},
   "outputs": [],
   "source": [
    "# from targets, select the right columns in order to do the calculation\n",
    "population_targets = population_targets.set_index('demo')\n"
   ]
  },
  {
   "cell_type": "code",
   "execution_count": 506,
   "id": "6b9fd937",
   "metadata": {},
   "outputs": [
    {
     "data": {
      "text/html": [
       "<div>\n",
       "<style scoped>\n",
       "    .dataframe tbody tr th:only-of-type {\n",
       "        vertical-align: middle;\n",
       "    }\n",
       "\n",
       "    .dataframe tbody tr th {\n",
       "        vertical-align: top;\n",
       "    }\n",
       "\n",
       "    .dataframe thead th {\n",
       "        text-align: right;\n",
       "    }\n",
       "</style>\n",
       "<table border=\"1\" class=\"dataframe\">\n",
       "  <thead>\n",
       "    <tr style=\"text-align: right;\">\n",
       "      <th></th>\n",
       "      <th>count</th>\n",
       "    </tr>\n",
       "    <tr>\n",
       "      <th>demo</th>\n",
       "      <th></th>\n",
       "    </tr>\n",
       "  </thead>\n",
       "  <tbody>\n",
       "    <tr>\n",
       "      <th>hhi_1</th>\n",
       "      <td>3059</td>\n",
       "    </tr>\n",
       "    <tr>\n",
       "      <th>hhi_2</th>\n",
       "      <td>7307</td>\n",
       "    </tr>\n",
       "    <tr>\n",
       "      <th>hhi_3</th>\n",
       "      <td>8132</td>\n",
       "    </tr>\n",
       "    <tr>\n",
       "      <th>hhi_4</th>\n",
       "      <td>9511</td>\n",
       "    </tr>\n",
       "    <tr>\n",
       "      <th>hhi_5</th>\n",
       "      <td>10430</td>\n",
       "    </tr>\n",
       "    <tr>\n",
       "      <th>hhi_6</th>\n",
       "      <td>15904</td>\n",
       "    </tr>\n",
       "    <tr>\n",
       "      <th>hhi_7</th>\n",
       "      <td>9820</td>\n",
       "    </tr>\n",
       "    <tr>\n",
       "      <th>hhi_8</th>\n",
       "      <td>10833</td>\n",
       "    </tr>\n",
       "    <tr>\n",
       "      <th>gender_Male</th>\n",
       "      <td>37312</td>\n",
       "    </tr>\n",
       "    <tr>\n",
       "      <th>gender_Female</th>\n",
       "      <td>37312</td>\n",
       "    </tr>\n",
       "    <tr>\n",
       "      <th>gender_Nonbinary</th>\n",
       "      <td>375</td>\n",
       "    </tr>\n",
       "    <tr>\n",
       "      <th>race_ethnicity_(aa, hispanic)</th>\n",
       "      <td>418</td>\n",
       "    </tr>\n",
       "    <tr>\n",
       "      <th>race_ethnicity_(aa, not_hispanic)</th>\n",
       "      <td>4203</td>\n",
       "    </tr>\n",
       "    <tr>\n",
       "      <th>race_ethnicity_(asian, hispanic)</th>\n",
       "      <td>52</td>\n",
       "    </tr>\n",
       "    <tr>\n",
       "      <th>race_ethnicity_(asian, not_hispanic)</th>\n",
       "      <td>7644</td>\n",
       "    </tr>\n",
       "    <tr>\n",
       "      <th>race_ethnicity_(other, hispanic)</th>\n",
       "      <td>1900</td>\n",
       "    </tr>\n",
       "    <tr>\n",
       "      <th>race_ethnicity_(other, not_hispanic)</th>\n",
       "      <td>770</td>\n",
       "    </tr>\n",
       "    <tr>\n",
       "      <th>race_ethnicity_(two_or_more, hispanic)</th>\n",
       "      <td>1227</td>\n",
       "    </tr>\n",
       "    <tr>\n",
       "      <th>race_ethnicity_(two_or_more, not_hispanic)</th>\n",
       "      <td>1962</td>\n",
       "    </tr>\n",
       "    <tr>\n",
       "      <th>race_ethnicity_(white, hispanic)</th>\n",
       "      <td>5666</td>\n",
       "    </tr>\n",
       "    <tr>\n",
       "      <th>race_ethnicity_(white, not_hispanic)</th>\n",
       "      <td>51154</td>\n",
       "    </tr>\n",
       "    <tr>\n",
       "      <th>age_18 to 24 Years</th>\n",
       "      <td>12005</td>\n",
       "    </tr>\n",
       "    <tr>\n",
       "      <th>age_25 to 34 Years</th>\n",
       "      <td>28048</td>\n",
       "    </tr>\n",
       "    <tr>\n",
       "      <th>age_35 to 44 Years</th>\n",
       "      <td>12139</td>\n",
       "    </tr>\n",
       "    <tr>\n",
       "      <th>age_45 to 54 Years</th>\n",
       "      <td>7414</td>\n",
       "    </tr>\n",
       "    <tr>\n",
       "      <th>age_65 to 74 Years</th>\n",
       "      <td>4351</td>\n",
       "    </tr>\n",
       "    <tr>\n",
       "      <th>age_75 Years &amp; Over</th>\n",
       "      <td>3258</td>\n",
       "    </tr>\n",
       "    <tr>\n",
       "      <th>age_17 Years</th>\n",
       "      <td>534</td>\n",
       "    </tr>\n",
       "    <tr>\n",
       "      <th>age_55 to 64 Years</th>\n",
       "      <td>7249</td>\n",
       "    </tr>\n",
       "  </tbody>\n",
       "</table>\n",
       "</div>"
      ],
      "text/plain": [
       "                                            count\n",
       "demo                                             \n",
       "hhi_1                                        3059\n",
       "hhi_2                                        7307\n",
       "hhi_3                                        8132\n",
       "hhi_4                                        9511\n",
       "hhi_5                                       10430\n",
       "hhi_6                                       15904\n",
       "hhi_7                                        9820\n",
       "hhi_8                                       10833\n",
       "gender_Male                                 37312\n",
       "gender_Female                               37312\n",
       "gender_Nonbinary                              375\n",
       "race_ethnicity_(aa, hispanic)                 418\n",
       "race_ethnicity_(aa, not_hispanic)            4203\n",
       "race_ethnicity_(asian, hispanic)               52\n",
       "race_ethnicity_(asian, not_hispanic)         7644\n",
       "race_ethnicity_(other, hispanic)             1900\n",
       "race_ethnicity_(other, not_hispanic)          770\n",
       "race_ethnicity_(two_or_more, hispanic)       1227\n",
       "race_ethnicity_(two_or_more, not_hispanic)   1962\n",
       "race_ethnicity_(white, hispanic)             5666\n",
       "race_ethnicity_(white, not_hispanic)        51154\n",
       "age_18 to 24 Years                          12005\n",
       "age_25 to 34 Years                          28048\n",
       "age_35 to 44 Years                          12139\n",
       "age_45 to 54 Years                           7414\n",
       "age_65 to 74 Years                           4351\n",
       "age_75 Years & Over                          3258\n",
       "age_17 Years                                  534\n",
       "age_55 to 64 Years                           7249"
      ]
     },
     "execution_count": 506,
     "metadata": {},
     "output_type": "execute_result"
    }
   ],
   "source": [
    "# We've multiplied the % share for each group by the estimated adult population of somerville.\n",
    "# We're going to assign weights to each participant such that these numbers are approximately met.\n",
    "population_targets"
   ]
  },
  {
   "cell_type": "code",
   "execution_count": 507,
   "id": "764c96ea",
   "metadata": {},
   "outputs": [],
   "source": [
    "population_targets = population_targets.loc[survey_demo_counts.columns]"
   ]
  },
  {
   "cell_type": "code",
   "execution_count": 509,
   "id": "d7aee43f",
   "metadata": {},
   "outputs": [],
   "source": [
    "# we may want to choose a subset of categories if we find that we're overconstrained.\n",
    "cols = ['gender_Female', \n",
    "        'gender_Male', \n",
    "        'gender_Nonbinary', \n",
    "        'age_17 Years',\n",
    "       'age_18 to 24 Years', \n",
    "        'age_25 to 34 Years', \n",
    "        'age_35 to 44 Years',\n",
    "       'age_45 to 54 Years', \n",
    "        'age_55 to 64 Years', \n",
    "        'age_65 to 74 Years',\n",
    "       'age_75 Years & Over', \n",
    "        'hhi_1', \n",
    "        'hhi_2', \n",
    "        'hhi_3',\n",
    "        'hhi_4', \n",
    "        'hhi_5',\n",
    "        'hhi_6', \n",
    "        'hhi_7',\n",
    "        'hhi_8',\n",
    "        #'race_ethnicity_(aa, hispanic)',\n",
    "       #'race_ethnicity_(aa, not_hispanic)', 'race_ethnicity_(asian, hispanic)',\n",
    "       #'race_ethnicity_(asian, not_hispanic)',\n",
    "       #'race_ethnicity_(other, not_hispanic)',\n",
    "       #'race_ethnicity_(two_or_more, hispanic)',\n",
    "       #'race_ethnicity_(two_or_more, not_hispanic)',\n",
    "       #'race_ethnicity_(white, hispanic)',\n",
    "       #'race_ethnicity_(white, not_hispanic)',\n",
    "       ]"
   ]
  },
  {
   "cell_type": "markdown",
   "id": "d2c5c7ba",
   "metadata": {},
   "source": [
    "We're going to get weights by solving the linear inverse problem. This is equivalent to a regularized OLS problem.\n",
    "\n",
    "The problem looks like:\n",
    "wX = T\n",
    "\n",
    "Where w is the [1 by N] vector of weights, X is the [N by M] matrix of survey participant demo data, and T is the [1 by M] vector of population target numbers. \n",
    "\n",
    "w is then given by\n",
    "w = T X^+\n",
    "Here, X^+ is the regularized pseudo-inverse of X."
   ]
  },
  {
   "cell_type": "code",
   "execution_count": 511,
   "id": "d188ef4a",
   "metadata": {},
   "outputs": [],
   "source": [
    "\n",
    "# find the pseudo-inverse of X\n",
    "survey_counts_inverse = np.linalg.pinv(survey_demo_counts[cols])\n",
    "\n",
    "# calculate the weight vector.\n",
    "weights = np.dot(population_targets.loc[cols]['count'], survey_counts_inverse)"
   ]
  },
  {
   "cell_type": "code",
   "execution_count": 512,
   "id": "b468c077",
   "metadata": {},
   "outputs": [
    {
     "data": {
      "text/plain": [
       "-32.49148466193866"
      ]
     },
     "execution_count": 512,
     "metadata": {},
     "output_type": "execute_result"
    }
   ],
   "source": [
    "weights.min()"
   ]
  },
  {
   "cell_type": "code",
   "execution_count": 513,
   "id": "a0612299",
   "metadata": {},
   "outputs": [],
   "source": [
    "# We have a small number of negative weights which we will set to zero\n",
    "weights[weights <  0] = 0"
   ]
  },
  {
   "cell_type": "code",
   "execution_count": 518,
   "id": "34f98eda",
   "metadata": {},
   "outputs": [],
   "source": [
    "# check how close we are\n",
    "res = population_targets.loc[cols]\n",
    "res['weighted_survey_pop'] = np.dot(weights, survey_demo_counts[cols])\n",
    "\n",
    "res['pct_error'] = 100 * (1 - res['weighted_survey_pop']/res['count'])"
   ]
  },
  {
   "cell_type": "code",
   "execution_count": 519,
   "id": "811f0acd",
   "metadata": {},
   "outputs": [
    {
     "data": {
      "text/html": [
       "<div>\n",
       "<style scoped>\n",
       "    .dataframe tbody tr th:only-of-type {\n",
       "        vertical-align: middle;\n",
       "    }\n",
       "\n",
       "    .dataframe tbody tr th {\n",
       "        vertical-align: top;\n",
       "    }\n",
       "\n",
       "    .dataframe thead th {\n",
       "        text-align: right;\n",
       "    }\n",
       "</style>\n",
       "<table border=\"1\" class=\"dataframe\">\n",
       "  <thead>\n",
       "    <tr style=\"text-align: right;\">\n",
       "      <th></th>\n",
       "      <th>count</th>\n",
       "      <th>weighted_survey_pop</th>\n",
       "      <th>pct_error</th>\n",
       "    </tr>\n",
       "  </thead>\n",
       "  <tbody>\n",
       "    <tr>\n",
       "      <th>gender_Female</th>\n",
       "      <td>37312</td>\n",
       "      <td>37553.334934</td>\n",
       "      <td>-0.646802</td>\n",
       "    </tr>\n",
       "    <tr>\n",
       "      <th>gender_Male</th>\n",
       "      <td>37312</td>\n",
       "      <td>37311.714286</td>\n",
       "      <td>0.000766</td>\n",
       "    </tr>\n",
       "    <tr>\n",
       "      <th>gender_Nonbinary</th>\n",
       "      <td>375</td>\n",
       "      <td>432.424739</td>\n",
       "      <td>-15.313264</td>\n",
       "    </tr>\n",
       "    <tr>\n",
       "      <th>age_17 Years</th>\n",
       "      <td>534</td>\n",
       "      <td>534.017857</td>\n",
       "      <td>-0.003344</td>\n",
       "    </tr>\n",
       "    <tr>\n",
       "      <th>age_18 to 24 Years</th>\n",
       "      <td>12005</td>\n",
       "      <td>12005.017857</td>\n",
       "      <td>-0.000149</td>\n",
       "    </tr>\n",
       "    <tr>\n",
       "      <th>age_25 to 34 Years</th>\n",
       "      <td>28048</td>\n",
       "      <td>28048.017857</td>\n",
       "      <td>-0.000064</td>\n",
       "    </tr>\n",
       "    <tr>\n",
       "      <th>age_35 to 44 Years</th>\n",
       "      <td>12139</td>\n",
       "      <td>12139.731583</td>\n",
       "      <td>-0.006027</td>\n",
       "    </tr>\n",
       "    <tr>\n",
       "      <th>age_45 to 54 Years</th>\n",
       "      <td>7414</td>\n",
       "      <td>7414.017857</td>\n",
       "      <td>-0.000241</td>\n",
       "    </tr>\n",
       "    <tr>\n",
       "      <th>age_55 to 64 Years</th>\n",
       "      <td>7249</td>\n",
       "      <td>7255.393380</td>\n",
       "      <td>-0.088197</td>\n",
       "    </tr>\n",
       "    <tr>\n",
       "      <th>age_65 to 74 Years</th>\n",
       "      <td>4351</td>\n",
       "      <td>4360.622097</td>\n",
       "      <td>-0.221147</td>\n",
       "    </tr>\n",
       "    <tr>\n",
       "      <th>age_75 Years &amp; Over</th>\n",
       "      <td>3258</td>\n",
       "      <td>3540.655470</td>\n",
       "      <td>-8.675736</td>\n",
       "    </tr>\n",
       "    <tr>\n",
       "      <th>hhi_1</th>\n",
       "      <td>3059</td>\n",
       "      <td>3059.267857</td>\n",
       "      <td>-0.008756</td>\n",
       "    </tr>\n",
       "    <tr>\n",
       "      <th>hhi_2</th>\n",
       "      <td>7307</td>\n",
       "      <td>7307.267857</td>\n",
       "      <td>-0.003666</td>\n",
       "    </tr>\n",
       "    <tr>\n",
       "      <th>hhi_3</th>\n",
       "      <td>8132</td>\n",
       "      <td>8150.397578</td>\n",
       "      <td>-0.226237</td>\n",
       "    </tr>\n",
       "    <tr>\n",
       "      <th>hhi_4</th>\n",
       "      <td>9511</td>\n",
       "      <td>9699.000338</td>\n",
       "      <td>-1.976662</td>\n",
       "    </tr>\n",
       "    <tr>\n",
       "      <th>hhi_5</th>\n",
       "      <td>10430</td>\n",
       "      <td>10430.267857</td>\n",
       "      <td>-0.002568</td>\n",
       "    </tr>\n",
       "    <tr>\n",
       "      <th>hhi_6</th>\n",
       "      <td>15904</td>\n",
       "      <td>15904.267857</td>\n",
       "      <td>-0.001684</td>\n",
       "    </tr>\n",
       "    <tr>\n",
       "      <th>hhi_7</th>\n",
       "      <td>9820</td>\n",
       "      <td>9837.360252</td>\n",
       "      <td>-0.176785</td>\n",
       "    </tr>\n",
       "    <tr>\n",
       "      <th>hhi_8</th>\n",
       "      <td>10833</td>\n",
       "      <td>10909.644363</td>\n",
       "      <td>-0.707508</td>\n",
       "    </tr>\n",
       "  </tbody>\n",
       "</table>\n",
       "</div>"
      ],
      "text/plain": [
       "                     count  weighted_survey_pop  pct_error\n",
       "gender_Female        37312         37553.334934  -0.646802\n",
       "gender_Male          37312         37311.714286   0.000766\n",
       "gender_Nonbinary       375           432.424739 -15.313264\n",
       "age_17 Years           534           534.017857  -0.003344\n",
       "age_18 to 24 Years   12005         12005.017857  -0.000149\n",
       "age_25 to 34 Years   28048         28048.017857  -0.000064\n",
       "age_35 to 44 Years   12139         12139.731583  -0.006027\n",
       "age_45 to 54 Years    7414          7414.017857  -0.000241\n",
       "age_55 to 64 Years    7249          7255.393380  -0.088197\n",
       "age_65 to 74 Years    4351          4360.622097  -0.221147\n",
       "age_75 Years & Over   3258          3540.655470  -8.675736\n",
       "hhi_1                 3059          3059.267857  -0.008756\n",
       "hhi_2                 7307          7307.267857  -0.003666\n",
       "hhi_3                 8132          8150.397578  -0.226237\n",
       "hhi_4                 9511          9699.000338  -1.976662\n",
       "hhi_5                10430         10430.267857  -0.002568\n",
       "hhi_6                15904         15904.267857  -0.001684\n",
       "hhi_7                 9820          9837.360252  -0.176785\n",
       "hhi_8                10833         10909.644363  -0.707508"
      ]
     },
     "execution_count": 519,
     "metadata": {},
     "output_type": "execute_result"
    }
   ],
   "source": [
    "res"
   ]
  },
  {
   "cell_type": "markdown",
   "id": "a0733782",
   "metadata": {},
   "source": [
    "We see that we're a bit off on very underrepresented groups: nonbinary participants and those over 75 years of age."
   ]
  },
  {
   "cell_type": "code",
   "execution_count": 520,
   "id": "922c8633",
   "metadata": {},
   "outputs": [],
   "source": [
    "# assign weights\n",
    "survey_data['weight'] = weights"
   ]
  },
  {
   "cell_type": "code",
   "execution_count": 521,
   "id": "4582a192",
   "metadata": {},
   "outputs": [],
   "source": [
    "survey_data.to_csv('../data/processed/weighted_survey_data.csv', index=False)"
   ]
  },
  {
   "cell_type": "code",
   "execution_count": null,
   "id": "170e3097",
   "metadata": {},
   "outputs": [],
   "source": []
  }
 ],
 "metadata": {
  "kernelspec": {
   "display_name": "Python 3 (ipykernel)",
   "language": "python",
   "name": "python3"
  },
  "language_info": {
   "codemirror_mode": {
    "name": "ipython",
    "version": 3
   },
   "file_extension": ".py",
   "mimetype": "text/x-python",
   "name": "python",
   "nbconvert_exporter": "python",
   "pygments_lexer": "ipython3",
   "version": "3.10.5"
  }
 },
 "nbformat": 4,
 "nbformat_minor": 5
}
