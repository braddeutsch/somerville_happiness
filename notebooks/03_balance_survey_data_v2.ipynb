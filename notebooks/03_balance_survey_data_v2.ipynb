{
 "cells": [
  {
   "cell_type": "markdown",
   "id": "2be538ef",
   "metadata": {},
   "source": [
    "# Balance survey data\n",
    "Assign weights to each survey respondent such that the population is balanced on gender, age, hhi, race, and ethnicity with respect to the census.\n",
    "\n",
    "1. Load data\n",
    "2. Impute missing demo values based on baseline frequencies\n",
    "3. Create population hooks in the survey data\n",
    "4. Create an axis with all possible demographic categories\n",
    "5. Join survey data and population targets to that axis, fill with 0's\n",
    "6. Find weights via matrix inversion\n",
    "7. Export weights, demo hooks"
   ]
  },
  {
   "cell_type": "code",
   "execution_count": 9,
   "id": "3e407eaf",
   "metadata": {},
   "outputs": [],
   "source": [
    "import numpy as np\n",
    "import pandas as pd\n"
   ]
  },
  {
   "cell_type": "code",
   "execution_count": 10,
   "id": "a2340986",
   "metadata": {
    "scrolled": true
   },
   "outputs": [],
   "source": [
    "# load data\n",
    "survey_data = pd.read_csv('../data/processed/01_filtered_renamed_survey_data.csv')\n",
    "population_targets = pd.read_csv('../data/processed/02_target_populations.csv')\n"
   ]
  },
  {
   "cell_type": "markdown",
   "id": "1b11a662",
   "metadata": {},
   "source": [
    "## Create population hooks in survey data"
   ]
  },
  {
   "cell_type": "code",
   "execution_count": 14,
   "id": "416d3b3d",
   "metadata": {},
   "outputs": [],
   "source": [
    "hooks = pd.DataFrame()"
   ]
  },
  {
   "cell_type": "code",
   "execution_count": 22,
   "id": "540735bb",
   "metadata": {},
   "outputs": [],
   "source": [
    "# Gender\n",
    "\n",
    "def map_gender(v):\n",
    "    \"\"\"Define gender categories. There is an open entry option, which we're mapping to nonbinary.\"\"\"\n",
    "    if v not in ('Female', 'Male', np.nan):\n",
    "        return 'Nonbinary'\n",
    "    else:\n",
    "        return v\n",
    "\n",
    "\n",
    "# map gender\n",
    "hooks['gender'] = survey_data['d01_gender']\n",
    "hooks['gender'] = hooks['gender'].apply(lambda x: map_gender(x))\n"
   ]
  },
  {
   "cell_type": "code",
   "execution_count": 25,
   "id": "7e8b30cd",
   "metadata": {},
   "outputs": [],
   "source": [
    "# Age\n",
    "\n",
    "def map_age(v):\n",
    "    \"\"\"Define age buckets\"\"\"\n",
    "    if v == 17:\n",
    "        return \"17 Years\"\n",
    "    elif v <= 24:\n",
    "        return \"18 to 24 Years\"\n",
    "    elif v <= 34:\n",
    "        return \"25 to 34 Years\"\n",
    "    elif v <= 44:\n",
    "        return \"35 to 44 Years\"\n",
    "    elif v <= 54:\n",
    "        return \"45 to 54 Years\"\n",
    "    elif v <= 64:\n",
    "        return \"55 to 64 Years\"\n",
    "    elif v <= 74:\n",
    "        return \"65 to 74 Years\"\n",
    "    else:\n",
    "        return \"75 Years & Over\"\n",
    "    \n",
    "\n",
    "\n",
    "# map age since we need it for balancing\n",
    "hooks['age'] = pd.to_numeric(survey_data['d02_age'])\n",
    "hooks['age'] = hooks['age'].apply(lambda x: map_age(x))\n"
   ]
  },
  {
   "cell_type": "code",
   "execution_count": 27,
   "id": "071af1d7",
   "metadata": {},
   "outputs": [],
   "source": [
    "# Household income. Map to buckets for population balancing.\n",
    "\n",
    "hhi_map = {'Less than $10,000': '1',\n",
    "           '$10,000 to $24,999': '2',\n",
    "           '$25,000 to $49,999': '3',\n",
    "           '$50,000 to 74,999': '4',\n",
    "           '$75,000 to $99,999': '5',\n",
    "           '$100,000 to $149,999': '6',\n",
    "           '$150,000 to 200,000': '7',\n",
    "           '$200,000 or more': '8'}\n",
    "\n",
    "hooks['hhi'] = survey_data['d08_hhi'].map(hhi_map)\n"
   ]
  },
  {
   "cell_type": "code",
   "execution_count": 57,
   "id": "834ed402",
   "metadata": {},
   "outputs": [],
   "source": [
    "# Race and Ethnicity\n",
    "\n",
    "# We need to extract Hispanic / Non-Hispanic ethnicity from the Race response.\n",
    "\n",
    "# format string\n",
    "race_response = survey_data['d04_race'].str.lower()\n",
    "\n",
    "\n",
    "searchfor = ['hispanic', 'puerto rican']\n",
    "hooks['ethnicity'] = pd.to_numeric(race_response.str.contains('|'.join(searchfor)) * 1).map({0: 'non-hispanic', 1: 'hispanic'})\n",
    "\n",
    "\n",
    "# People can have multiple responses for race, and we want to keep track of \"more than one race\".\n",
    "# So as an intermediate step we break out indicators for each race in (white, aa, asian, other)\n",
    "\n",
    "\n",
    "# Break out white, black, asian\n",
    "race_data = pd.DataFrame()\n",
    "race_data['race_white'] = pd.to_numeric(race_response.str.contains('white') * 1)\n",
    "race_data['race_aa'] = pd.to_numeric(race_response.str.contains('black') * 1)\n",
    "race_data['race_asian'] = pd.to_numeric(race_response.str.contains('asian') * 1)\n",
    "\n",
    "# Map all other responses to \"other\". Note that these were taken manually from a list of unique reponses.\n",
    "searchfor = ['jewish', 'american indian', 'portuguese', 'cape verdean', \n",
    "             'middle eastern', 'east indian', 'biracial', 'arab', 'brazilian']\n",
    "race_data['race_other'] = pd.to_numeric(race_response.str.contains('|'.join(searchfor)) * 1)\n",
    "\n",
    "# Define hooks\n",
    "def get_race_hooks(row):\n",
    "    race_cols = ['race_aa', 'race_asian', 'race_white', 'race_other']\n",
    "    if sum(row[race_cols]) > 1:\n",
    "        return 'two_or_more'\n",
    "    if row['race_aa'] > 0:\n",
    "        return 'aa'\n",
    "    if row['race_asian'] > 0:\n",
    "        return 'asian'\n",
    "    if row['race_other'] > 0:\n",
    "        return 'other'\n",
    "    if row['race_white'] > 0:\n",
    "        return 'white'\n",
    "    else:\n",
    "        return np.nan\n",
    "    \n",
    "hooks['race'] = race_data.apply(lambda row: get_race_hooks(row), axis=1)"
   ]
  },
  {
   "cell_type": "code",
   "execution_count": 58,
   "id": "9dfa6915",
   "metadata": {},
   "outputs": [],
   "source": [
    "hooks.to_csv('../data/processed/survey_population_hooks.csv')"
   ]
  },
  {
   "cell_type": "markdown",
   "id": "d71eb929",
   "metadata": {},
   "source": [
    "## Impute missing values by sampled frequency"
   ]
  },
  {
   "cell_type": "code",
   "execution_count": 59,
   "id": "9de2b67b",
   "metadata": {},
   "outputs": [],
   "source": [
    "def impute_by_sampled_frequency(df, col):\n",
    "    \"\"\"Impute nulls by sampling according to the frequencies present in the data.\n",
    "    Modifies the df in place.\"\"\"\n",
    "    \n",
    "    s = df[col].value_counts(normalize=True)\n",
    "    missing = df[col].isnull()\n",
    "    df.loc[missing, col] = np.random.choice(s.index, size=len(df[missing]),p=s.values)\n",
    "\n",
    "    return "
   ]
  },
  {
   "cell_type": "code",
   "execution_count": 60,
   "id": "f4f138ef",
   "metadata": {},
   "outputs": [],
   "source": [
    "# for any missing value, substitute according to the sample frequencies\n",
    "impute_by_sampled_frequency(hooks, 'gender')\n",
    "impute_by_sampled_frequency(hooks, 'hhi')\n",
    "impute_by_sampled_frequency(hooks, 'race')\n",
    "impute_by_sampled_frequency(hooks, 'ethnicity')\n",
    "impute_by_sampled_frequency(hooks, 'age')"
   ]
  },
  {
   "cell_type": "code",
   "execution_count": 63,
   "id": "724729ca",
   "metadata": {},
   "outputs": [],
   "source": [
    "# get race x ethnicity combinations since we're balancing on the combination.\n",
    "\n",
    "hooks['race_ethnicity'] = hooks.apply(lambda row: \"({0}, {1})\".format(row['race'], row['ethnicity']), axis=1)\n",
    "hooks.drop(['race', 'ethnicity'], axis=1, inplace=True)"
   ]
  },
  {
   "cell_type": "code",
   "execution_count": 66,
   "id": "3104696f",
   "metadata": {},
   "outputs": [],
   "source": [
    "# HHI is coded as a number but it needs to be a string to join to survey data targets.\n",
    "hooks['hhi'] = hooks['hhi'].astype(int).astype(str)"
   ]
  },
  {
   "cell_type": "code",
   "execution_count": 69,
   "id": "45e00445",
   "metadata": {},
   "outputs": [],
   "source": [
    "# Break out into indicators. The automated column naming should match the population targets.\n",
    "survey_demo_counts = pd.get_dummies(hooks)"
   ]
  },
  {
   "cell_type": "markdown",
   "id": "06adabf4",
   "metadata": {},
   "source": [
    "## Population balancing"
   ]
  },
  {
   "cell_type": "code",
   "execution_count": 71,
   "id": "681a467b",
   "metadata": {},
   "outputs": [],
   "source": [
    "# from targets, select the right columns in order to do the calculation\n",
    "population_targets = population_targets.set_index('demo')\n",
    "\n",
    "population_targets = population_targets.loc[survey_demo_counts.columns]"
   ]
  },
  {
   "cell_type": "code",
   "execution_count": 73,
   "id": "d7aee43f",
   "metadata": {},
   "outputs": [],
   "source": [
    "# Practically, we may need to balance on a subset of demo counts to get a good fit.\n",
    "cols = ['gender_Female', \n",
    "        'gender_Male', \n",
    "        'gender_Nonbinary', \n",
    "        'age_17 Years',\n",
    "       'age_18 to 24 Years', \n",
    "        'age_25 to 34 Years', \n",
    "        'age_35 to 44 Years',\n",
    "       'age_45 to 54 Years', \n",
    "        'age_55 to 64 Years', \n",
    "        'age_65 to 74 Years',\n",
    "       'age_75 Years & Over', \n",
    "        'hhi_1', \n",
    "        'hhi_2', \n",
    "        'hhi_3',\n",
    "        'hhi_4', \n",
    "        'hhi_5',\n",
    "        'hhi_6', \n",
    "        'hhi_7',\n",
    "        'hhi_8',\n",
    "        #'race_ethnicity_(aa, hispanic)',\n",
    "       #'race_ethnicity_(aa, not_hispanic)', 'race_ethnicity_(asian, hispanic)',\n",
    "       #'race_ethnicity_(asian, not_hispanic)',\n",
    "       #'race_ethnicity_(other, not_hispanic)',\n",
    "       #'race_ethnicity_(two_or_more, hispanic)',\n",
    "       #'race_ethnicity_(two_or_more, not_hispanic)',\n",
    "       #'race_ethnicity_(white, hispanic)',\n",
    "       #'race_ethnicity_(white, not_hispanic)',\n",
    "       ]"
   ]
  },
  {
   "cell_type": "markdown",
   "id": "d2c5c7ba",
   "metadata": {},
   "source": [
    "We're going to get weights by solving the linear inverse problem. This is equivalent to a regularized OLS problem.\n",
    "\n",
    "The problem looks like:\n",
    "wX = T\n",
    "\n",
    "Where w is the [1 by N] vector of weights, X is the [N by M] matrix of survey participant demo data, and T is the [1 by M] vector of population target numbers. \n",
    "\n",
    "w is then given by\n",
    "w = T X^+\n",
    "Here, X^+ is the regularized pseudo-inverse of X."
   ]
  },
  {
   "cell_type": "code",
   "execution_count": 74,
   "id": "d188ef4a",
   "metadata": {},
   "outputs": [],
   "source": [
    "\n",
    "# find the pseudo-inverse of X\n",
    "survey_counts_inverse = np.linalg.pinv(survey_demo_counts[cols])\n",
    "\n",
    "# calculate the weight vector.\n",
    "weights = np.dot(population_targets.loc[cols]['count'], survey_counts_inverse)"
   ]
  },
  {
   "cell_type": "code",
   "execution_count": 75,
   "id": "b468c077",
   "metadata": {},
   "outputs": [
    {
     "data": {
      "text/plain": [
       "-37.55012694389091"
      ]
     },
     "execution_count": 75,
     "metadata": {},
     "output_type": "execute_result"
    }
   ],
   "source": [
    "weights.min()"
   ]
  },
  {
   "cell_type": "code",
   "execution_count": 76,
   "id": "a0612299",
   "metadata": {},
   "outputs": [],
   "source": [
    "# We have a small number of negative weights which we will set to zero\n",
    "weights[weights <  0] = 0"
   ]
  },
  {
   "cell_type": "code",
   "execution_count": 77,
   "id": "34f98eda",
   "metadata": {},
   "outputs": [],
   "source": [
    "# check how close we are\n",
    "res = population_targets.loc[cols]\n",
    "res['weighted_survey_pop'] = np.dot(weights, survey_demo_counts[cols])\n",
    "\n",
    "res['pct_error'] = 100 * (1 - res['weighted_survey_pop']/res['count'])"
   ]
  },
  {
   "cell_type": "code",
   "execution_count": 78,
   "id": "811f0acd",
   "metadata": {},
   "outputs": [
    {
     "data": {
      "text/html": [
       "<div>\n",
       "<style scoped>\n",
       "    .dataframe tbody tr th:only-of-type {\n",
       "        vertical-align: middle;\n",
       "    }\n",
       "\n",
       "    .dataframe tbody tr th {\n",
       "        vertical-align: top;\n",
       "    }\n",
       "\n",
       "    .dataframe thead th {\n",
       "        text-align: right;\n",
       "    }\n",
       "</style>\n",
       "<table border=\"1\" class=\"dataframe\">\n",
       "  <thead>\n",
       "    <tr style=\"text-align: right;\">\n",
       "      <th></th>\n",
       "      <th>count</th>\n",
       "      <th>weighted_survey_pop</th>\n",
       "      <th>pct_error</th>\n",
       "    </tr>\n",
       "    <tr>\n",
       "      <th>demo</th>\n",
       "      <th></th>\n",
       "      <th></th>\n",
       "      <th></th>\n",
       "    </tr>\n",
       "  </thead>\n",
       "  <tbody>\n",
       "    <tr>\n",
       "      <th>gender_Female</th>\n",
       "      <td>37312</td>\n",
       "      <td>37665.654195</td>\n",
       "      <td>-0.947830</td>\n",
       "    </tr>\n",
       "    <tr>\n",
       "      <th>gender_Male</th>\n",
       "      <td>37312</td>\n",
       "      <td>37311.714286</td>\n",
       "      <td>0.000766</td>\n",
       "    </tr>\n",
       "    <tr>\n",
       "      <th>gender_Nonbinary</th>\n",
       "      <td>375</td>\n",
       "      <td>441.931547</td>\n",
       "      <td>-17.848412</td>\n",
       "    </tr>\n",
       "    <tr>\n",
       "      <th>age_17 Years</th>\n",
       "      <td>534</td>\n",
       "      <td>534.017857</td>\n",
       "      <td>-0.003344</td>\n",
       "    </tr>\n",
       "    <tr>\n",
       "      <th>age_18 to 24 Years</th>\n",
       "      <td>12005</td>\n",
       "      <td>12005.017857</td>\n",
       "      <td>-0.000149</td>\n",
       "    </tr>\n",
       "    <tr>\n",
       "      <th>age_25 to 34 Years</th>\n",
       "      <td>28048</td>\n",
       "      <td>28048.017857</td>\n",
       "      <td>-0.000064</td>\n",
       "    </tr>\n",
       "    <tr>\n",
       "      <th>age_35 to 44 Years</th>\n",
       "      <td>12139</td>\n",
       "      <td>12141.050240</td>\n",
       "      <td>-0.016890</td>\n",
       "    </tr>\n",
       "    <tr>\n",
       "      <th>age_45 to 54 Years</th>\n",
       "      <td>7414</td>\n",
       "      <td>7414.017857</td>\n",
       "      <td>-0.000241</td>\n",
       "    </tr>\n",
       "    <tr>\n",
       "      <th>age_55 to 64 Years</th>\n",
       "      <td>7249</td>\n",
       "      <td>7257.958252</td>\n",
       "      <td>-0.123579</td>\n",
       "    </tr>\n",
       "    <tr>\n",
       "      <th>age_65 to 74 Years</th>\n",
       "      <td>4351</td>\n",
       "      <td>4409.544244</td>\n",
       "      <td>-1.345535</td>\n",
       "    </tr>\n",
       "    <tr>\n",
       "      <th>age_75 Years &amp; Over</th>\n",
       "      <td>3258</td>\n",
       "      <td>3609.675862</td>\n",
       "      <td>-10.794225</td>\n",
       "    </tr>\n",
       "    <tr>\n",
       "      <th>hhi_1</th>\n",
       "      <td>3059</td>\n",
       "      <td>3059.267857</td>\n",
       "      <td>-0.008756</td>\n",
       "    </tr>\n",
       "    <tr>\n",
       "      <th>hhi_2</th>\n",
       "      <td>7307</td>\n",
       "      <td>7307.267857</td>\n",
       "      <td>-0.003666</td>\n",
       "    </tr>\n",
       "    <tr>\n",
       "      <th>hhi_3</th>\n",
       "      <td>8132</td>\n",
       "      <td>8150.962213</td>\n",
       "      <td>-0.233180</td>\n",
       "    </tr>\n",
       "    <tr>\n",
       "      <th>hhi_4</th>\n",
       "      <td>9511</td>\n",
       "      <td>9768.958056</td>\n",
       "      <td>-2.712208</td>\n",
       "    </tr>\n",
       "    <tr>\n",
       "      <th>hhi_5</th>\n",
       "      <td>10430</td>\n",
       "      <td>10430.267857</td>\n",
       "      <td>-0.002568</td>\n",
       "    </tr>\n",
       "    <tr>\n",
       "      <th>hhi_6</th>\n",
       "      <td>15904</td>\n",
       "      <td>15940.250869</td>\n",
       "      <td>-0.227936</td>\n",
       "    </tr>\n",
       "    <tr>\n",
       "      <th>hhi_7</th>\n",
       "      <td>9820</td>\n",
       "      <td>9842.682979</td>\n",
       "      <td>-0.230988</td>\n",
       "    </tr>\n",
       "    <tr>\n",
       "      <th>hhi_8</th>\n",
       "      <td>10833</td>\n",
       "      <td>10919.642339</td>\n",
       "      <td>-0.799800</td>\n",
       "    </tr>\n",
       "  </tbody>\n",
       "</table>\n",
       "</div>"
      ],
      "text/plain": [
       "                     count  weighted_survey_pop  pct_error\n",
       "demo                                                      \n",
       "gender_Female        37312         37665.654195  -0.947830\n",
       "gender_Male          37312         37311.714286   0.000766\n",
       "gender_Nonbinary       375           441.931547 -17.848412\n",
       "age_17 Years           534           534.017857  -0.003344\n",
       "age_18 to 24 Years   12005         12005.017857  -0.000149\n",
       "age_25 to 34 Years   28048         28048.017857  -0.000064\n",
       "age_35 to 44 Years   12139         12141.050240  -0.016890\n",
       "age_45 to 54 Years    7414          7414.017857  -0.000241\n",
       "age_55 to 64 Years    7249          7257.958252  -0.123579\n",
       "age_65 to 74 Years    4351          4409.544244  -1.345535\n",
       "age_75 Years & Over   3258          3609.675862 -10.794225\n",
       "hhi_1                 3059          3059.267857  -0.008756\n",
       "hhi_2                 7307          7307.267857  -0.003666\n",
       "hhi_3                 8132          8150.962213  -0.233180\n",
       "hhi_4                 9511          9768.958056  -2.712208\n",
       "hhi_5                10430         10430.267857  -0.002568\n",
       "hhi_6                15904         15940.250869  -0.227936\n",
       "hhi_7                 9820          9842.682979  -0.230988\n",
       "hhi_8                10833         10919.642339  -0.799800"
      ]
     },
     "execution_count": 78,
     "metadata": {},
     "output_type": "execute_result"
    }
   ],
   "source": [
    "res"
   ]
  },
  {
   "cell_type": "markdown",
   "id": "a0733782",
   "metadata": {},
   "source": [
    "We see that we're a bit off on very underrepresented groups: nonbinary participants and those over 75 years of age."
   ]
  },
  {
   "cell_type": "code",
   "execution_count": 79,
   "id": "922c8633",
   "metadata": {},
   "outputs": [],
   "source": [
    "# assign weights\n",
    "survey_data['weight'] = weights"
   ]
  },
  {
   "cell_type": "code",
   "execution_count": 82,
   "id": "1af5d9d2",
   "metadata": {},
   "outputs": [],
   "source": [
    "# Export weights\n",
    "survey_data[['id', 'weight']].to_csv('../data/processed/03_survey_weights.csv', index=False)"
   ]
  },
  {
   "cell_type": "code",
   "execution_count": 521,
   "id": "4582a192",
   "metadata": {},
   "outputs": [],
   "source": [
    "# survey_data.to_csv('../data/processed/weighted_survey_data.csv', index=False)"
   ]
  },
  {
   "cell_type": "code",
   "execution_count": 84,
   "id": "170e3097",
   "metadata": {},
   "outputs": [
    {
     "data": {
      "text/plain": [
       "False"
      ]
     },
     "execution_count": 84,
     "metadata": {},
     "output_type": "execute_result"
    }
   ],
   "source": [
    "# QA check\n",
    "\n",
    "survey_data.weight.isnull().any()"
   ]
  },
  {
   "cell_type": "code",
   "execution_count": null,
   "id": "b3832bb6",
   "metadata": {},
   "outputs": [],
   "source": []
  }
 ],
 "metadata": {
  "kernelspec": {
   "display_name": "Python 3 (ipykernel)",
   "language": "python",
   "name": "python3"
  },
  "language_info": {
   "codemirror_mode": {
    "name": "ipython",
    "version": 3
   },
   "file_extension": ".py",
   "mimetype": "text/x-python",
   "name": "python",
   "nbconvert_exporter": "python",
   "pygments_lexer": "ipython3",
   "version": "3.10.5"
  }
 },
 "nbformat": 4,
 "nbformat_minor": 5
}
