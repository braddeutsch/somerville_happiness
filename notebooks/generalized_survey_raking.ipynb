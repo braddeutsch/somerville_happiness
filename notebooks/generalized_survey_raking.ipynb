{
 "cells": [
  {
   "cell_type": "code",
   "execution_count": 2,
   "id": "3e407eaf",
   "metadata": {},
   "outputs": [],
   "source": [
    "import numpy as np\n",
    "import pandas as pd\n"
   ]
  },
  {
   "cell_type": "code",
   "execution_count": null,
   "id": "a2340986",
   "metadata": {},
   "outputs": [],
   "source": [
    "# import data\n"
   ]
  },
  {
   "cell_type": "code",
   "execution_count": 1,
   "id": "99794dc4",
   "metadata": {},
   "outputs": [],
   "source": [
    "\n",
    "\n",
    "def raking_inverse(x):\n",
    "  return np.exp(x)\n",
    "\n",
    "def d_raking_inverse(x):\n",
    "  return np.exp(x)\n",
    "\n",
    "def graking(X, T, max_steps=500, tolerance=1e-6):\n",
    "  # Based on algo in (Deville et al., 1992) explained in detail on page 37 in\n",
    "  # https://orca.cf.ac.uk/109727/1/2018daviesgpphd.pdf\n",
    "\n",
    "  # Initialize variables - Step 1\n",
    "  n, m = X.shape\n",
    "  L = np.zeros(m) # Lagrange multipliers (lambda)\n",
    "  w = np.ones(n) # Our weights (will get progressively updated)\n",
    "  H = np.eye(n)\n",
    "  success = False\n",
    "\n",
    "  for step in range(max_steps):\n",
    "    L += np.dot(np.linalg.pinv(np.dot(np.dot(X.T, H), X)), (T - np.dot(X.T, w))) # Step 2.1\n",
    "    w = raking_inverse(np.dot(X, L)) # Step 2.2\n",
    "    H = np.diag(d_raking_inverse(np.dot(X, L))) # Step 2.3\n",
    "\n",
    "    # Termination condition:\n",
    "    loss = np.max(np.abs(np.dot(X.T, w) - T) / T)\n",
    "    if loss < tolerance:\n",
    "        success = True\n",
    "        break\n",
    "\n",
    "  if not success: raise Exception(\"Did not converge\")\n",
    "  return w"
   ]
  },
  {
   "cell_type": "markdown",
   "id": "9fadcbfd",
   "metadata": {},
   "source": [
    "As noted in the function, we are using a Generalized Survey Raking methodology due to Deville (1992). The inputs are\n",
    "\n",
    "T: a vector of targets, providing counts of each group of interest, e.g. [100 Male, 100 Femal, 10 Nonbinary, 12 Black, 60 White, ...]\n",
    "\n",
    "X: A binary matrix of [respondents x target] providing group membership. \n",
    "\n",
    "Output is\n",
    "w: A vector of weights for each respondent such that \n",
    "wX = T"
   ]
  },
  {
   "cell_type": "code",
   "execution_count": null,
   "id": "9da62175",
   "metadata": {},
   "outputs": [],
   "source": [
    "# input data\n"
   ]
  }
 ],
 "metadata": {
  "kernelspec": {
   "display_name": "Python 3 (ipykernel)",
   "language": "python",
   "name": "python3"
  },
  "language_info": {
   "codemirror_mode": {
    "name": "ipython",
    "version": 3
   },
   "file_extension": ".py",
   "mimetype": "text/x-python",
   "name": "python",
   "nbconvert_exporter": "python",
   "pygments_lexer": "ipython3",
   "version": "3.10.5"
  }
 },
 "nbformat": 4,
 "nbformat_minor": 5
}
