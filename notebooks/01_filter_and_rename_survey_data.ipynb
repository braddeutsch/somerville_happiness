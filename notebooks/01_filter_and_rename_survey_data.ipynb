{
 "cells": [
  {
   "cell_type": "markdown",
   "id": "84a90c9a",
   "metadata": {},
   "source": [
    "# Filter and rename survey data\n",
    "Filter to a single year, rename columns for easier analysis."
   ]
  },
  {
   "cell_type": "code",
   "execution_count": 15,
   "id": "1cf6fd2a",
   "metadata": {},
   "outputs": [],
   "source": [
    "# import packages\n",
    "import re\n",
    "import numpy as np\n",
    "import pandas as pd\n",
    "import matplotlib.pyplot as plt\n",
    "import seaborn as sns"
   ]
  },
  {
   "cell_type": "code",
   "execution_count": 16,
   "id": "3978bac5",
   "metadata": {},
   "outputs": [],
   "source": [
    "# load data\n",
    "data = pd.read_csv('../data/raw/Somerville_Happiness_Survey_Responses.csv')"
   ]
  },
  {
   "cell_type": "code",
   "execution_count": 17,
   "id": "d4c2ab00",
   "metadata": {},
   "outputs": [
    {
     "name": "stdout",
     "output_type": "stream",
     "text": [
      "Total responses: 8886\n",
      "Responses per year:       Combined_ID\n",
      "Year             \n",
      "2011         6167\n",
      "2013          193\n",
      "2015          185\n",
      "2017          845\n",
      "2019         1496\n"
     ]
    }
   ],
   "source": [
    "# Choose a year or range of years to look at\n",
    "print(\"Total responses: {}\".format(len(data)))\n",
    "print(\"Responses per year: {}\".format(data.groupby('Year').count()[['Combined_ID']]))"
   ]
  },
  {
   "cell_type": "markdown",
   "id": "608fb107",
   "metadata": {},
   "source": [
    "Year counts are very inconsistent. A deeper look shows that in 2011 only a few questions were asked. That basically leaves us with 2019 for data analyis."
   ]
  },
  {
   "cell_type": "code",
   "execution_count": 18,
   "id": "b7105852",
   "metadata": {},
   "outputs": [],
   "source": [
    "# strip down to 2019 only\n",
    "data_2019 = data[data['Year']==2019]"
   ]
  },
  {
   "cell_type": "markdown",
   "id": "e1af2d71",
   "metadata": {},
   "source": [
    "Handle nulls. Eliminate any questions that were not asked in 2019. Replace null placeholders with np.nan."
   ]
  },
  {
   "cell_type": "code",
   "execution_count": 19,
   "id": "d1974a30",
   "metadata": {
    "scrolled": false
   },
   "outputs": [],
   "source": [
    "# drop null columns. These are questions that were not asked in this yeaer\n",
    "data_2019 = data_2019.dropna(axis=1)\n",
    "\n",
    "# replace any 999.0 / 990 / '999' with null (declined to answer)\n",
    "data_2019 = data_2019.replace(999.0, np.nan)\n",
    "data_2019 = data_2019.replace(999, np.nan)\n",
    "data_2019 = data_2019.replace('999', np.nan)\n",
    "\n",
    "# rename columns for easier usage\n",
    "col_map = {'Combined_ID': 'id',\n",
    "           'Year': 'year',\n",
    "           'How.happy.do.you.feel.right.now': 'q01_happy',\n",
    "           'How.satisfied.are.you.with.your.life.in.general': 'q02_satisfied_general',\n",
    "           'How.satisfied.are.you.with.Somerville.as.a.place.to.live': 'q03_satisfied_somerville',\n",
    "           'How.satisfied.are.you.with.your.neighborhood': 'q04_satisfied_neighborhood',\n",
    "           'Do.you.feel.the.City.is.headed.in.the.right.direction.or.is.it.on.the.wrong.track': 'q05_city_direction',\n",
    "           'How.would.you.rate.the.following..The.availability.of.information.about.city.services': 'q06a_city_services',\n",
    "           'How.would.you.rate.the.following..The.cost.of.housing': 'q06b_cost_housing',\n",
    "           'How.would.you.rate.the.following..The.overall.quality.of.public.schools': 'q06c_quality_schools',\n",
    "           'How.would.you.rate.the.following..Your.trust.in.the.local.police': 'q06d_trust_police',\n",
    "           'How.would.you.rate.the.following..The.maintenance.of.streets.and.sidewalks': 'q06e_sidewalks',\n",
    "           'How.would.you.rate.the.following..The.availability.of.social.community.events': 'q06f_events',\n",
    "           'How.safe.do.you.feel.crossing.a.busy.street.in.Somerville': 'q07_safe_crossing_street',\n",
    "           'How.convenient.is.it.for.you.to.get.where.you.want.to.go': 'q08_convenient',\n",
    "           'How.safe.do.you.feel.walking.in.your.neighborhood.at.night': 'q09_safe_at_night',\n",
    "           'How.satisfied.are.you.with.the.appearance.of.parks.and.squares.in.your.neighborhood': 'q10_parks',\n",
    "           'How.satisfied.are.you.with.the.beauty.or.physical.setting.of.your.neighborhood': 'q11_beauty',\n",
    "           'How.satisfied.are.you.with.the.condition.of.your.housing': 'q12_housing_condition',\n",
    "           'What.is.your.gender': 'd01_gender',\n",
    "           'Age': 'd02_age',\n",
    "           'Language': 'd03_language',\n",
    "          'What.is.your.race.or.ethnicity': 'd04_race',\n",
    "          'Do.you.have.children.age.18.or.younger.who.live.with.you': 'd05_num_children',\n",
    "          'Describe.your.housing.status.in.Somerville': 'd06_housing_status',\n",
    "          'Do.you.plan.to.move.away.from.Somerville.in.the.next.two.years': 'd07_plan_to_move',\n",
    "          'What.is.your.annual.household.income': 'd08_hhi',\n",
    "          'Are.you.a.student': 'd09_is_student',\n",
    "           'How.long.have.you.lived.here': 'd10_how_long_lived_here',\n",
    "          'Ward': 'd13_ward',\n",
    "          'Do.you.plan.to.move.away.from.Somerville.in.the.next.two.years.yes.why': 'move_why',\n",
    "          'What.is.your.primary.mode.of.transportation': 'd11_transportation_mode',\n",
    "          'Which.of.the.following.have.you.used.in.the.past.month.to.get.around': 'd12_transportation_month',\n",
    "          }\n",
    "\n",
    "# map column names \n",
    "data_2019.columns = data_2019.columns.map(col_map)"
   ]
  },
  {
   "cell_type": "code",
   "execution_count": 22,
   "id": "37b8730d",
   "metadata": {},
   "outputs": [],
   "source": [
    "# Save data\n",
    "\n",
    "data_2019.to_csv('../data/intermediate/01_filtered_renamed_survey_data.csv', index=False)"
   ]
  },
  {
   "cell_type": "code",
   "execution_count": null,
   "id": "11c038ef",
   "metadata": {},
   "outputs": [],
   "source": []
  }
 ],
 "metadata": {
  "kernelspec": {
   "display_name": "Python 3 (ipykernel)",
   "language": "python",
   "name": "python3"
  },
  "language_info": {
   "codemirror_mode": {
    "name": "ipython",
    "version": 3
   },
   "file_extension": ".py",
   "mimetype": "text/x-python",
   "name": "python",
   "nbconvert_exporter": "python",
   "pygments_lexer": "ipython3",
   "version": "3.10.5"
  }
 },
 "nbformat": 4,
 "nbformat_minor": 5
}
