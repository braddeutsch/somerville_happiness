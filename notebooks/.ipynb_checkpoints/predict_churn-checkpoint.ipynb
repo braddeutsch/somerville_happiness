{
 "cells": [
  {
   "cell_type": "code",
   "execution_count": 1,
   "id": "bd9e204e",
   "metadata": {},
   "outputs": [],
   "source": [
    "import numpy as np\n",
    "import pandas as pd\n",
    "import matplotlib.pyplot as plt\n",
    "import seaborn as sns\n",
    "import re\n"
   ]
  },
  {
   "cell_type": "code",
   "execution_count": 2,
   "id": "e81dab2f",
   "metadata": {},
   "outputs": [],
   "source": [
    "# load data"
   ]
  },
  {
   "cell_type": "code",
   "execution_count": null,
   "id": "4e60e2bf",
   "metadata": {},
   "outputs": [],
   "source": [
    "# define target and base features\n"
   ]
  },
  {
   "cell_type": "code",
   "execution_count": 3,
   "id": "9485645b",
   "metadata": {},
   "outputs": [],
   "source": [
    "# test-train split"
   ]
  },
  {
   "cell_type": "code",
   "execution_count": null,
   "id": "91efb8f1",
   "metadata": {},
   "outputs": [],
   "source": []
  }
 ],
 "metadata": {
  "kernelspec": {
   "display_name": "Python 3 (ipykernel)",
   "language": "python",
   "name": "python3"
  },
  "language_info": {
   "codemirror_mode": {
    "name": "ipython",
    "version": 3
   },
   "file_extension": ".py",
   "mimetype": "text/x-python",
   "name": "python",
   "nbconvert_exporter": "python",
   "pygments_lexer": "ipython3",
   "version": "3.10.5"
  }
 },
 "nbformat": 4,
 "nbformat_minor": 5
}
