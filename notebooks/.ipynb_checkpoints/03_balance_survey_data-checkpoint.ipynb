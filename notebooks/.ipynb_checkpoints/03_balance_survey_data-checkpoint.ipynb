{
 "cells": [
  {
   "cell_type": "markdown",
   "id": "ff3f8c77",
   "metadata": {},
   "source": [
    "# Balance survey data\n",
    "Assign weights to each survey respondent such that the population is balanced on gender, age, hhi, race, and ethnicity with respect to the census.\n",
    "\n",
    "1. Load data\n",
    "2. Impute missing demo values based on baseline frequencies\n",
    "3. Create population hooks in the survey data\n",
    "4. Create an axis with all possible demographic categories\n",
    "5. Join survey data and population targets to that axis, fill with 0's\n",
    "6. Find weights\n",
    "7. Join weights with survey data and save"
   ]
  },
  {
   "cell_type": "code",
   "execution_count": 493,
   "id": "3e407eaf",
   "metadata": {},
   "outputs": [],
   "source": [
    "import numpy as np\n",
    "import pandas as pd\n"
   ]
  },
  {
   "cell_type": "code",
   "execution_count": 496,
   "id": "a2340986",
   "metadata": {},
   "outputs": [
    {
     "name": "stderr",
     "output_type": "stream",
     "text": [
      "/tmp/ipykernel_2485/635906423.py:14: SettingWithCopyWarning: \n",
      "A value is trying to be set on a copy of a slice from a DataFrame\n",
      "\n",
      "See the caveats in the documentation: https://pandas.pydata.org/pandas-docs/stable/user_guide/indexing.html#returning-a-view-versus-a-copy\n",
      "  demo_data.rename(columns={'d01_gender': 'gender',\n"
     ]
    }
   ],
   "source": [
    "# load data\n",
    "survey_data = pd.read_csv('../data/processed/data_2019_preprocessed.csv')\n",
    "population_targets = pd.read_csv('../data/processed/target_populations.csv')\n",
    "\n",
    "# trim columns and rename\n",
    "demo_cols = ['d01_gender',\n",
    "             'd02_age',\n",
    "             'race_hooks',\n",
    "             'd04_ethnicity',\n",
    "             'd08_hhi_buckets']\n",
    "\n",
    "\n",
    "demo_data = survey_data[demo_cols]\n",
    "demo_data.rename(columns={'d01_gender': 'gender',\n",
    "                          'd02_age': 'age',\n",
    "                          'race_hooks': 'race',\n",
    "                          'd04_ethnicity': 'ethnicity',\n",
    "                          'd08_hhi_buckets': 'hhi'}, inplace=True)"
   ]
  },
  {
   "cell_type": "code",
   "execution_count": 497,
   "id": "1014bb3f",
   "metadata": {
    "scrolled": true
   },
   "outputs": [
    {
     "name": "stderr",
     "output_type": "stream",
     "text": [
      "/tmp/ipykernel_2485/3861690361.py:2: SettingWithCopyWarning: \n",
      "A value is trying to be set on a copy of a slice from a DataFrame\n",
      "\n",
      "See the caveats in the documentation: https://pandas.pydata.org/pandas-docs/stable/user_guide/indexing.html#returning-a-view-versus-a-copy\n",
      "  demo_data.replace({\"No Answer\": np.nan}, inplace=True)\n"
     ]
    }
   ],
   "source": [
    "# set 'no answer\" to null so we can impute easily\n",
    "demo_data.replace({\"No Answer\": np.nan}, inplace=True)"
   ]
  },
  {
   "cell_type": "code",
   "execution_count": 498,
   "id": "1f1c1413",
   "metadata": {},
   "outputs": [],
   "source": [
    "def impute_by_sampled_frequency(df, col):\n",
    "    \"\"\"Impute nulls by sampling according to the frequencies present in the data.\n",
    "    Modifies the df in place.\"\"\"\n",
    "    \n",
    "    s = df[col].value_counts(normalize=True)\n",
    "    missing = df[col].isnull()\n",
    "    df.loc[missing, col] = np.random.choice(s.index, size=len(df[missing]),p=s.values)\n",
    "\n",
    "    return "
   ]
  },
  {
   "cell_type": "code",
   "execution_count": 362,
   "id": "83fe011f",
   "metadata": {},
   "outputs": [],
   "source": [
    "# for any missing value, substitute according to the sample frequencies\n",
    "impute_by_sampled_frequency(demo_data, 'gender')\n",
    "impute_by_sampled_frequency(demo_data, 'hhi')\n",
    "impute_by_sampled_frequency(demo_data, 'race')\n",
    "impute_by_sampled_frequency(demo_data, 'ethnicity')\n",
    "impute_by_sampled_frequency(demo_data, 'age')"
   ]
  },
  {
   "cell_type": "code",
   "execution_count": 363,
   "id": "1d9691dc",
   "metadata": {},
   "outputs": [
    {
     "name": "stderr",
     "output_type": "stream",
     "text": [
      "/tmp/ipykernel_2485/1110671701.py:2: SettingWithCopyWarning: \n",
      "A value is trying to be set on a copy of a slice from a DataFrame.\n",
      "Try using .loc[row_indexer,col_indexer] = value instead\n",
      "\n",
      "See the caveats in the documentation: https://pandas.pydata.org/pandas-docs/stable/user_guide/indexing.html#returning-a-view-versus-a-copy\n",
      "  demo_data['ethnicity'] = demo_data['ethnicity'].apply(lambda x: 'hispanic' if x==1.0 else 'not_hispanic')\n"
     ]
    }
   ],
   "source": [
    "# change ethnicity column from binary to string\n",
    "demo_data['ethnicity'] = demo_data['ethnicity'].apply(lambda x: 'hispanic' if x==1.0 else 'not_hispanic')"
   ]
  },
  {
   "cell_type": "code",
   "execution_count": 364,
   "id": "2d941ec2",
   "metadata": {},
   "outputs": [
    {
     "name": "stderr",
     "output_type": "stream",
     "text": [
      "/tmp/ipykernel_2485/3796770471.py:3: SettingWithCopyWarning: \n",
      "A value is trying to be set on a copy of a slice from a DataFrame.\n",
      "Try using .loc[row_indexer,col_indexer] = value instead\n",
      "\n",
      "See the caveats in the documentation: https://pandas.pydata.org/pandas-docs/stable/user_guide/indexing.html#returning-a-view-versus-a-copy\n",
      "  demo_data['race_ethnicity'] = demo_data.apply(lambda row: \"({0}, {1})\".format(row['race'], row['ethnicity']), axis=1)\n",
      "/tmp/ipykernel_2485/3796770471.py:4: SettingWithCopyWarning: \n",
      "A value is trying to be set on a copy of a slice from a DataFrame\n",
      "\n",
      "See the caveats in the documentation: https://pandas.pydata.org/pandas-docs/stable/user_guide/indexing.html#returning-a-view-versus-a-copy\n",
      "  demo_data.drop(['race', 'ethnicity'], axis=1, inplace=True)\n"
     ]
    }
   ],
   "source": [
    "# get race x ethnicity combinations.\n",
    "\n",
    "demo_data['race_ethnicity'] = demo_data.apply(lambda row: \"({0}, {1})\".format(row['race'], row['ethnicity']), axis=1)\n",
    "demo_data.drop(['race', 'ethnicity'], axis=1, inplace=True)"
   ]
  },
  {
   "cell_type": "code",
   "execution_count": 365,
   "id": "6e6c0d46",
   "metadata": {},
   "outputs": [
    {
     "name": "stderr",
     "output_type": "stream",
     "text": [
      "/tmp/ipykernel_2485/3385731230.py:1: SettingWithCopyWarning: \n",
      "A value is trying to be set on a copy of a slice from a DataFrame.\n",
      "Try using .loc[row_indexer,col_indexer] = value instead\n",
      "\n",
      "See the caveats in the documentation: https://pandas.pydata.org/pandas-docs/stable/user_guide/indexing.html#returning-a-view-versus-a-copy\n",
      "  demo_data['hhi'] = demo_data['hhi'].astype(int).astype(str)\n"
     ]
    }
   ],
   "source": [
    "demo_data['hhi'] = demo_data['hhi'].astype(int).astype(str)"
   ]
  },
  {
   "cell_type": "code",
   "execution_count": 366,
   "id": "f6c02a1c",
   "metadata": {},
   "outputs": [],
   "source": [
    "survey_demo_counts = pd.get_dummies(demo_data)"
   ]
  },
  {
   "cell_type": "markdown",
   "id": "c2673ebe",
   "metadata": {},
   "source": [
    "## Population balancing"
   ]
  },
  {
   "cell_type": "code",
   "execution_count": 367,
   "id": "03c60faf",
   "metadata": {},
   "outputs": [],
   "source": [
    "# from targets, select the right columns in order to do the calculation\n",
    "population_targets = population_targets.set_index('demo')\n"
   ]
  },
  {
   "cell_type": "code",
   "execution_count": 368,
   "id": "355fc011",
   "metadata": {},
   "outputs": [
    {
     "data": {
      "text/html": [
       "<div>\n",
       "<style scoped>\n",
       "    .dataframe tbody tr th:only-of-type {\n",
       "        vertical-align: middle;\n",
       "    }\n",
       "\n",
       "    .dataframe tbody tr th {\n",
       "        vertical-align: top;\n",
       "    }\n",
       "\n",
       "    .dataframe thead th {\n",
       "        text-align: right;\n",
       "    }\n",
       "</style>\n",
       "<table border=\"1\" class=\"dataframe\">\n",
       "  <thead>\n",
       "    <tr style=\"text-align: right;\">\n",
       "      <th></th>\n",
       "      <th>count</th>\n",
       "    </tr>\n",
       "    <tr>\n",
       "      <th>demo</th>\n",
       "      <th></th>\n",
       "    </tr>\n",
       "  </thead>\n",
       "  <tbody>\n",
       "    <tr>\n",
       "      <th>hhi_1</th>\n",
       "      <td>3059</td>\n",
       "    </tr>\n",
       "    <tr>\n",
       "      <th>hhi_2</th>\n",
       "      <td>7307</td>\n",
       "    </tr>\n",
       "    <tr>\n",
       "      <th>hhi_3</th>\n",
       "      <td>8132</td>\n",
       "    </tr>\n",
       "    <tr>\n",
       "      <th>hhi_4</th>\n",
       "      <td>9511</td>\n",
       "    </tr>\n",
       "    <tr>\n",
       "      <th>hhi_5</th>\n",
       "      <td>10430</td>\n",
       "    </tr>\n",
       "    <tr>\n",
       "      <th>hhi_6</th>\n",
       "      <td>15904</td>\n",
       "    </tr>\n",
       "    <tr>\n",
       "      <th>hhi_7</th>\n",
       "      <td>9820</td>\n",
       "    </tr>\n",
       "    <tr>\n",
       "      <th>hhi_8</th>\n",
       "      <td>10833</td>\n",
       "    </tr>\n",
       "    <tr>\n",
       "      <th>gender_Male</th>\n",
       "      <td>37312</td>\n",
       "    </tr>\n",
       "    <tr>\n",
       "      <th>gender_Female</th>\n",
       "      <td>37312</td>\n",
       "    </tr>\n",
       "    <tr>\n",
       "      <th>gender_Nonbinary</th>\n",
       "      <td>375</td>\n",
       "    </tr>\n",
       "    <tr>\n",
       "      <th>race_ethnicity_(aa, hispanic)</th>\n",
       "      <td>418</td>\n",
       "    </tr>\n",
       "    <tr>\n",
       "      <th>race_ethnicity_(aa, not_hispanic)</th>\n",
       "      <td>4203</td>\n",
       "    </tr>\n",
       "    <tr>\n",
       "      <th>race_ethnicity_(asian, hispanic)</th>\n",
       "      <td>52</td>\n",
       "    </tr>\n",
       "    <tr>\n",
       "      <th>race_ethnicity_(asian, not_hispanic)</th>\n",
       "      <td>7644</td>\n",
       "    </tr>\n",
       "    <tr>\n",
       "      <th>race_ethnicity_(other, hispanic)</th>\n",
       "      <td>1900</td>\n",
       "    </tr>\n",
       "    <tr>\n",
       "      <th>race_ethnicity_(other, not_hispanic)</th>\n",
       "      <td>770</td>\n",
       "    </tr>\n",
       "    <tr>\n",
       "      <th>race_ethnicity_(two_or_more, hispanic)</th>\n",
       "      <td>1227</td>\n",
       "    </tr>\n",
       "    <tr>\n",
       "      <th>race_ethnicity_(two_or_more, not_hispanic)</th>\n",
       "      <td>1962</td>\n",
       "    </tr>\n",
       "    <tr>\n",
       "      <th>race_ethnicity_(white, hispanic)</th>\n",
       "      <td>5666</td>\n",
       "    </tr>\n",
       "    <tr>\n",
       "      <th>race_ethnicity_(white, not_hispanic)</th>\n",
       "      <td>51154</td>\n",
       "    </tr>\n",
       "    <tr>\n",
       "      <th>age_18 to 24 Years</th>\n",
       "      <td>12005</td>\n",
       "    </tr>\n",
       "    <tr>\n",
       "      <th>age_25 to 34 Years</th>\n",
       "      <td>28048</td>\n",
       "    </tr>\n",
       "    <tr>\n",
       "      <th>age_35 to 44 Years</th>\n",
       "      <td>12139</td>\n",
       "    </tr>\n",
       "    <tr>\n",
       "      <th>age_45 to 54 Years</th>\n",
       "      <td>7414</td>\n",
       "    </tr>\n",
       "    <tr>\n",
       "      <th>age_65 to 74 Years</th>\n",
       "      <td>4351</td>\n",
       "    </tr>\n",
       "    <tr>\n",
       "      <th>age_75 Years &amp; Over</th>\n",
       "      <td>3258</td>\n",
       "    </tr>\n",
       "    <tr>\n",
       "      <th>age_17 Years</th>\n",
       "      <td>534</td>\n",
       "    </tr>\n",
       "    <tr>\n",
       "      <th>age_55 to 64 Years</th>\n",
       "      <td>7249</td>\n",
       "    </tr>\n",
       "  </tbody>\n",
       "</table>\n",
       "</div>"
      ],
      "text/plain": [
       "                                            count\n",
       "demo                                             \n",
       "hhi_1                                        3059\n",
       "hhi_2                                        7307\n",
       "hhi_3                                        8132\n",
       "hhi_4                                        9511\n",
       "hhi_5                                       10430\n",
       "hhi_6                                       15904\n",
       "hhi_7                                        9820\n",
       "hhi_8                                       10833\n",
       "gender_Male                                 37312\n",
       "gender_Female                               37312\n",
       "gender_Nonbinary                              375\n",
       "race_ethnicity_(aa, hispanic)                 418\n",
       "race_ethnicity_(aa, not_hispanic)            4203\n",
       "race_ethnicity_(asian, hispanic)               52\n",
       "race_ethnicity_(asian, not_hispanic)         7644\n",
       "race_ethnicity_(other, hispanic)             1900\n",
       "race_ethnicity_(other, not_hispanic)          770\n",
       "race_ethnicity_(two_or_more, hispanic)       1227\n",
       "race_ethnicity_(two_or_more, not_hispanic)   1962\n",
       "race_ethnicity_(white, hispanic)             5666\n",
       "race_ethnicity_(white, not_hispanic)        51154\n",
       "age_18 to 24 Years                          12005\n",
       "age_25 to 34 Years                          28048\n",
       "age_35 to 44 Years                          12139\n",
       "age_45 to 54 Years                           7414\n",
       "age_65 to 74 Years                           4351\n",
       "age_75 Years & Over                          3258\n",
       "age_17 Years                                  534\n",
       "age_55 to 64 Years                           7249"
      ]
     },
     "execution_count": 368,
     "metadata": {},
     "output_type": "execute_result"
    }
   ],
   "source": [
    "population_targets"
   ]
  },
  {
   "cell_type": "code",
   "execution_count": 369,
   "id": "60f8a924",
   "metadata": {},
   "outputs": [],
   "source": [
    "population_targets = population_targets.loc[survey_demo_counts.columns]"
   ]
  },
  {
   "cell_type": "code",
   "execution_count": 370,
   "id": "99794dc4",
   "metadata": {},
   "outputs": [],
   "source": [
    "\n",
    "\n",
    "def raking_inverse(x):\n",
    "  return np.exp(x)\n",
    "\n",
    "def d_raking_inverse(x):\n",
    "  return np.exp(x)\n",
    "\n",
    "def graking(X, T, max_steps=500, tolerance=1e-6):\n",
    "  # Based on algo in (Deville et al., 1992) explained in detail on page 37 in\n",
    "  # https://orca.cf.ac.uk/109727/1/2018daviesgpphd.pdf\n",
    "\n",
    "  # Initialize variables - Step 1\n",
    "  n, m = X.shape\n",
    "  L = np.zeros(m) # Lagrange multipliers (lambda)\n",
    "  w = np.ones(n) # Our weights (will get progressively updated)\n",
    "  H = np.eye(n)\n",
    "  success = False\n",
    "\n",
    "  for step in range(max_steps):\n",
    "    L += np.dot(np.linalg.pinv(np.dot(np.dot(X.T, H), X)), (T - np.dot(X.T, w))) # Step 2.1\n",
    "    w = raking_inverse(np.dot(X, L)) # Step 2.2\n",
    "    H = np.diag(d_raking_inverse(np.dot(X, L))) # Step 2.3\n",
    "\n",
    "    # Termination condition:\n",
    "    loss = np.max(np.abs(np.dot(X.T, w) - T) / T)\n",
    "    if loss < tolerance:\n",
    "        success = True\n",
    "        break\n",
    "\n",
    "  if not success: raise Exception(\"Did not converge\")\n",
    "  return w"
   ]
  },
  {
   "cell_type": "markdown",
   "id": "9fadcbfd",
   "metadata": {},
   "source": [
    "As noted in the function, we are using a Generalized Survey Raking methodology due to Deville (1992). The inputs are\n",
    "\n",
    "T: a vector of targets, providing counts of each group of interest, e.g. [100 Male, 100 Femal, 10 Nonbinary, 12 Black, 60 White, ...]\n",
    "\n",
    "X: A binary matrix of [respondents x target] providing group membership. \n",
    "\n",
    "Output is\n",
    "w: A vector of weights for each respondent such that \n",
    "wX = T"
   ]
  },
  {
   "cell_type": "code",
   "execution_count": 372,
   "id": "a75dd898",
   "metadata": {},
   "outputs": [
    {
     "data": {
      "text/plain": [
       "28"
      ]
     },
     "execution_count": 372,
     "metadata": {},
     "output_type": "execute_result"
    }
   ],
   "source": [
    "len(population_targets)"
   ]
  },
  {
   "cell_type": "code",
   "execution_count": 390,
   "id": "a107a460",
   "metadata": {},
   "outputs": [
    {
     "data": {
      "text/plain": [
       "Index(['gender_Female', 'gender_Male', 'gender_Nonbinary', 'age_17 Years',\n",
       "       'age_18 to 24 Years', 'age_25 to 34 Years', 'age_35 to 44 Years',\n",
       "       'age_45 to 54 Years', 'age_55 to 64 Years', 'age_65 to 74 Years',\n",
       "       'age_75 Years & Over', 'hhi_1', 'hhi_2', 'hhi_3', 'hhi_4', 'hhi_5',\n",
       "       'hhi_6', 'hhi_7', 'hhi_8', 'race_ethnicity_(aa, hispanic)',\n",
       "       'race_ethnicity_(aa, not_hispanic)', 'race_ethnicity_(asian, hispanic)',\n",
       "       'race_ethnicity_(asian, not_hispanic)',\n",
       "       'race_ethnicity_(other, not_hispanic)',\n",
       "       'race_ethnicity_(two_or_more, hispanic)',\n",
       "       'race_ethnicity_(two_or_more, not_hispanic)',\n",
       "       'race_ethnicity_(white, hispanic)',\n",
       "       'race_ethnicity_(white, not_hispanic)'],\n",
       "      dtype='object')"
      ]
     },
     "execution_count": 390,
     "metadata": {},
     "output_type": "execute_result"
    }
   ],
   "source": [
    "survey_demo_counts.columns"
   ]
  },
  {
   "cell_type": "code",
   "execution_count": 456,
   "id": "43579550",
   "metadata": {},
   "outputs": [],
   "source": [
    "cols = ['gender_Female', \n",
    "        'gender_Male', \n",
    "        'gender_Nonbinary', \n",
    "        'age_17 Years',\n",
    "       'age_18 to 24 Years', \n",
    "        'age_25 to 34 Years', \n",
    "        'age_35 to 44 Years',\n",
    "       'age_45 to 54 Years', \n",
    "        'age_55 to 64 Years', \n",
    "        'age_65 to 74 Years',\n",
    "       'age_75 Years & Over', \n",
    "        'hhi_1', \n",
    "        'hhi_2', \n",
    "        'hhi_3',\n",
    "        'hhi_4', \n",
    "        'hhi_5',\n",
    "        'hhi_6', \n",
    "        'hhi_7',\n",
    "        'hhi_8',\n",
    "        #'race_ethnicity_(aa, hispanic)',\n",
    "       #'race_ethnicity_(aa, not_hispanic)', 'race_ethnicity_(asian, hispanic)',\n",
    "       #'race_ethnicity_(asian, not_hispanic)',\n",
    "       #'race_ethnicity_(other, not_hispanic)',\n",
    "       #'race_ethnicity_(two_or_more, hispanic)',\n",
    "       #'race_ethnicity_(two_or_more, not_hispanic)',\n",
    "       #'race_ethnicity_(white, hispanic)',\n",
    "       #'race_ethnicity_(white, not_hispanic)',\n",
    "       ]"
   ]
  },
  {
   "cell_type": "code",
   "execution_count": 457,
   "id": "7caca907",
   "metadata": {},
   "outputs": [],
   "source": [
    "survey_counts_inverse = np.linalg.pinv(survey_demo_counts[cols])"
   ]
  },
  {
   "cell_type": "code",
   "execution_count": 458,
   "id": "0592bc1f",
   "metadata": {},
   "outputs": [],
   "source": [
    "weights = np.dot(population_targets.loc[cols]['count'], survey_counts_inverse)"
   ]
  },
  {
   "cell_type": "code",
   "execution_count": 483,
   "id": "c385635a",
   "metadata": {},
   "outputs": [],
   "source": [
    "# We have a small number of negative weights which we will set to zero\n",
    "weights[weights <  0] = 0"
   ]
  },
  {
   "cell_type": "code",
   "execution_count": 485,
   "id": "71228c3d",
   "metadata": {},
   "outputs": [
    {
     "data": {
      "text/html": [
       "<div>\n",
       "<style scoped>\n",
       "    .dataframe tbody tr th:only-of-type {\n",
       "        vertical-align: middle;\n",
       "    }\n",
       "\n",
       "    .dataframe tbody tr th {\n",
       "        vertical-align: top;\n",
       "    }\n",
       "\n",
       "    .dataframe thead th {\n",
       "        text-align: right;\n",
       "    }\n",
       "</style>\n",
       "<table border=\"1\" class=\"dataframe\">\n",
       "  <thead>\n",
       "    <tr style=\"text-align: right;\">\n",
       "      <th></th>\n",
       "      <th>count</th>\n",
       "      <th>weighted_survey_pop</th>\n",
       "    </tr>\n",
       "  </thead>\n",
       "  <tbody>\n",
       "    <tr>\n",
       "      <th>gender_Female</th>\n",
       "      <td>37312</td>\n",
       "      <td>37613.237704</td>\n",
       "    </tr>\n",
       "    <tr>\n",
       "      <th>gender_Male</th>\n",
       "      <td>37312</td>\n",
       "      <td>37311.714286</td>\n",
       "    </tr>\n",
       "    <tr>\n",
       "      <th>gender_Nonbinary</th>\n",
       "      <td>375</td>\n",
       "      <td>436.949374</td>\n",
       "    </tr>\n",
       "    <tr>\n",
       "      <th>age_17 Years</th>\n",
       "      <td>534</td>\n",
       "      <td>534.017857</td>\n",
       "    </tr>\n",
       "    <tr>\n",
       "      <th>age_18 to 24 Years</th>\n",
       "      <td>12005</td>\n",
       "      <td>12005.017857</td>\n",
       "    </tr>\n",
       "    <tr>\n",
       "      <th>age_25 to 34 Years</th>\n",
       "      <td>28048</td>\n",
       "      <td>28048.017857</td>\n",
       "    </tr>\n",
       "    <tr>\n",
       "      <th>age_35 to 44 Years</th>\n",
       "      <td>12139</td>\n",
       "      <td>12141.036030</td>\n",
       "    </tr>\n",
       "    <tr>\n",
       "      <th>age_45 to 54 Years</th>\n",
       "      <td>7414</td>\n",
       "      <td>7414.017857</td>\n",
       "    </tr>\n",
       "    <tr>\n",
       "      <th>age_55 to 64 Years</th>\n",
       "      <td>7249</td>\n",
       "      <td>7254.128834</td>\n",
       "    </tr>\n",
       "    <tr>\n",
       "      <th>age_65 to 74 Years</th>\n",
       "      <td>4351</td>\n",
       "      <td>4382.916654</td>\n",
       "    </tr>\n",
       "    <tr>\n",
       "      <th>age_75 Years &amp; Over</th>\n",
       "      <td>3258</td>\n",
       "      <td>3582.748417</td>\n",
       "    </tr>\n",
       "    <tr>\n",
       "      <th>hhi_1</th>\n",
       "      <td>3059</td>\n",
       "      <td>3059.267857</td>\n",
       "    </tr>\n",
       "    <tr>\n",
       "      <th>hhi_2</th>\n",
       "      <td>7307</td>\n",
       "      <td>7307.267857</td>\n",
       "    </tr>\n",
       "    <tr>\n",
       "      <th>hhi_3</th>\n",
       "      <td>8132</td>\n",
       "      <td>8152.979499</td>\n",
       "    </tr>\n",
       "    <tr>\n",
       "      <th>hhi_4</th>\n",
       "      <td>9511</td>\n",
       "      <td>9716.664840</td>\n",
       "    </tr>\n",
       "    <tr>\n",
       "      <th>hhi_5</th>\n",
       "      <td>10430</td>\n",
       "      <td>10430.267857</td>\n",
       "    </tr>\n",
       "    <tr>\n",
       "      <th>hhi_6</th>\n",
       "      <td>15904</td>\n",
       "      <td>15906.452890</td>\n",
       "    </tr>\n",
       "    <tr>\n",
       "      <th>hhi_7</th>\n",
       "      <td>9820</td>\n",
       "      <td>9863.085899</td>\n",
       "    </tr>\n",
       "    <tr>\n",
       "      <th>hhi_8</th>\n",
       "      <td>10833</td>\n",
       "      <td>10925.914664</td>\n",
       "    </tr>\n",
       "  </tbody>\n",
       "</table>\n",
       "</div>"
      ],
      "text/plain": [
       "                     count  weighted_survey_pop\n",
       "gender_Female        37312         37613.237704\n",
       "gender_Male          37312         37311.714286\n",
       "gender_Nonbinary       375           436.949374\n",
       "age_17 Years           534           534.017857\n",
       "age_18 to 24 Years   12005         12005.017857\n",
       "age_25 to 34 Years   28048         28048.017857\n",
       "age_35 to 44 Years   12139         12141.036030\n",
       "age_45 to 54 Years    7414          7414.017857\n",
       "age_55 to 64 Years    7249          7254.128834\n",
       "age_65 to 74 Years    4351          4382.916654\n",
       "age_75 Years & Over   3258          3582.748417\n",
       "hhi_1                 3059          3059.267857\n",
       "hhi_2                 7307          7307.267857\n",
       "hhi_3                 8132          8152.979499\n",
       "hhi_4                 9511          9716.664840\n",
       "hhi_5                10430         10430.267857\n",
       "hhi_6                15904         15906.452890\n",
       "hhi_7                 9820          9863.085899\n",
       "hhi_8                10833         10925.914664"
      ]
     },
     "execution_count": 485,
     "metadata": {},
     "output_type": "execute_result"
    }
   ],
   "source": [
    "res = population_targets.loc[cols]\n",
    "res['weighted_survey_pop'] = np.dot(weights, survey_demo_counts[cols])\n",
    "\n",
    "res"
   ]
  },
  {
   "cell_type": "code",
   "execution_count": 486,
   "id": "22274874",
   "metadata": {},
   "outputs": [],
   "source": [
    "# assign weights\n",
    "survey_data['weight'] = weights"
   ]
  },
  {
   "cell_type": "code",
   "execution_count": 491,
   "id": "c9605b16",
   "metadata": {},
   "outputs": [],
   "source": [
    "survey_data.to_csv('../data/processed/weighted_survey_data.csv', index=False)"
   ]
  },
  {
   "cell_type": "code",
   "execution_count": null,
   "id": "d8097f4f",
   "metadata": {},
   "outputs": [],
   "source": []
  }
 ],
 "metadata": {
  "kernelspec": {
   "display_name": "Python 3 (ipykernel)",
   "language": "python",
   "name": "python3"
  },
  "language_info": {
   "codemirror_mode": {
    "name": "ipython",
    "version": 3
   },
   "file_extension": ".py",
   "mimetype": "text/x-python",
   "name": "python",
   "nbconvert_exporter": "python",
   "pygments_lexer": "ipython3",
   "version": "3.10.5"
  }
 },
 "nbformat": 4,
 "nbformat_minor": 5
}
